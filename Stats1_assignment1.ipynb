{
  "nbformat": 4,
  "nbformat_minor": 0,
  "metadata": {
    "colab": {
      "name": "Stats1_assignment1.ipynb",
      "provenance": [],
      "collapsed_sections": []
    },
    "kernelspec": {
      "name": "python3",
      "display_name": "Python 3"
    }
  },
  "cells": [
    {
      "cell_type": "code",
      "metadata": {
        "id": "3sPNTI0SNcjG",
        "colab_type": "code",
        "colab": {}
      },
      "source": [
        "import numpy as np\n",
        "import math\n",
        "from scipy import stats"
      ],
      "execution_count": null,
      "outputs": []
    },
    {
      "cell_type": "markdown",
      "metadata": {
        "id": "Wr_y7S39M4P0",
        "colab_type": "text"
      },
      "source": [
        "# Problem 1"
      ]
    },
    {
      "cell_type": "code",
      "metadata": {
        "id": "jm8-O8UkNDUX",
        "colab_type": "code",
        "colab": {}
      },
      "source": [
        "data = np.array([6, 7, 5, 7, 7, 8, 7, 6, 9, 7, 4, 10, 6, 8, 8, 9, 5, 6, 4, 8])"
      ],
      "execution_count": null,
      "outputs": []
    },
    {
      "cell_type": "code",
      "metadata": {
        "id": "3guPnEgaNedK",
        "colab_type": "code",
        "colab": {
          "base_uri": "https://localhost:8080/",
          "height": 34
        },
        "outputId": "2f5f5d4f-aec1-47d1-ce06-0d8a6560a675"
      },
      "source": [
        "mean = np.mean(data)\n",
        "median = np.median(data)\n",
        "mode = stats.mode(data)[0][0]\n",
        "sd = np.std(data)\n",
        "print(mean, median, mode, sd)"
      ],
      "execution_count": null,
      "outputs": [
        {
          "output_type": "stream",
          "text": [
            "6.85 7.0 7 1.5898113095584647\n"
          ],
          "name": "stdout"
        }
      ]
    },
    {
      "cell_type": "markdown",
      "metadata": {
        "id": "ByeOPg3jN3z6",
        "colab_type": "text"
      },
      "source": [
        "# Problem 2"
      ]
    },
    {
      "cell_type": "code",
      "metadata": {
        "id": "4OJL30dDN9oK",
        "colab_type": "code",
        "colab": {
          "base_uri": "https://localhost:8080/",
          "height": 34
        },
        "outputId": "40712818-de28-4fd4-e927-5c7d19847ef6"
      },
      "source": [
        "data = np.array([28, 122, 217, 130, 120, 86, 80, 90, 140, 120, 70, 40, 145, 113, 90, 68, 174, 194, 170, 100, 75, 104, 97, 75, 123, 100, 75, 104, 97, 75, 123, 100, 89, 120, 109])\n",
        "mean = np.mean(data)\n",
        "median = np.median(data)\n",
        "mode = stats.mode(data)[0][0]\n",
        "sd = np.std(data)\n",
        "print(mean, median, mode, sd)"
      ],
      "execution_count": null,
      "outputs": [
        {
          "output_type": "stream",
          "text": [
            "107.51428571428572 100.0 75 38.77287080168403\n"
          ],
          "name": "stdout"
        }
      ]
    },
    {
      "cell_type": "markdown",
      "metadata": {
        "id": "kjQbE8auOSbX",
        "colab_type": "text"
      },
      "source": [
        "# Problem 3"
      ]
    },
    {
      "cell_type": "code",
      "metadata": {
        "id": "szSuXwloOT_4",
        "colab_type": "code",
        "colab": {}
      },
      "source": [
        "x = [0, 1, 2, 3, 4, 5]\n",
        "fx = [0.09, 0.15, 0.40, 0.25, 0.10, 0.01]\n"
      ],
      "execution_count": null,
      "outputs": []
    },
    {
      "cell_type": "code",
      "metadata": {
        "id": "DaqYSWIASHN8",
        "colab_type": "code",
        "colab": {}
      },
      "source": [
        "# mean E(X) = x * f(x)\n",
        "expected_mean = sum([a*b for a,b in zip(x,fx)])"
      ],
      "execution_count": null,
      "outputs": []
    },
    {
      "cell_type": "code",
      "metadata": {
        "id": "fF-y9dFASO_1",
        "colab_type": "code",
        "colab": {
          "base_uri": "https://localhost:8080/",
          "height": 34
        },
        "outputId": "93c01926-470e-42b9-949d-1a06bd281a8f"
      },
      "source": [
        "# variance Var(X) = E(x^2) - (E(X))^2\n",
        "x_square = [a**2 for a in x]\n",
        "expected_x_square = sum([a*b for a,b in zip(x_square,fx)])\n",
        "expected_mean_square = expected_mean ** 2\n",
        "variance = expected_x_square - expected_mean_square\n",
        "print(expected_mean, variance)"
      ],
      "execution_count": null,
      "outputs": [
        {
          "output_type": "stream",
          "text": [
            "2.15 1.2275\n"
          ],
          "name": "stdout"
        }
      ]
    },
    {
      "cell_type": "markdown",
      "metadata": {
        "id": "yeYmm3tQSo3l",
        "colab_type": "text"
      },
      "source": [
        "# Problem 4 and Problem 9\n",
        "\n",
        " 1)  - e (-30) + C\n",
        "  need to solve"
      ]
    },
    {
      "cell_type": "code",
      "metadata": {
        "id": "D8Bjd46tUrYc",
        "colab_type": "code",
        "colab": {
          "base_uri": "https://localhost:8080/",
          "height": 34
        },
        "outputId": "ba1b2829-bdd1-469d-ef13-6ccb152bac8f"
      },
      "source": [
        "np.exp(30)"
      ],
      "execution_count": null,
      "outputs": [
        {
          "output_type": "execute_result",
          "data": {
            "text/plain": [
              "10686474581524.463"
            ]
          },
          "metadata": {
            "tags": []
          },
          "execution_count": 41
        }
      ]
    },
    {
      "cell_type": "markdown",
      "metadata": {
        "id": "eH3BKc81yEXY",
        "colab_type": "text"
      },
      "source": [
        "# Problem 5\n",
        "using poisson distribution\n",
        "\n",
        "1.   lambda = np\n",
        "2.   lambda = 6 * 0.3 => 1.8\n",
        "\n",
        "\n",
        "P(X = 2) = (1.8)^2 * e^(-1.8) / 2!  => 0.2677841989189702"
      ]
    },
    {
      "cell_type": "markdown",
      "metadata": {
        "id": "2fvTYiJjWkhX",
        "colab_type": "text"
      },
      "source": [
        "# Problem 6"
      ]
    },
    {
      "cell_type": "markdown",
      "metadata": {
        "id": "aTw9A3uAFT0T",
        "colab_type": "text"
      },
      "source": [
        "# Problem 7\n",
        "\n",
        "72/hr\n",
        "\n",
        "mean = 4.8 ( for 4 minutes )\n",
        "\n",
        "1) P(X = 5) \n",
        "\n",
        "  e^(-4.8) * 4.8 ^ 5 / 5! \n",
        "\n",
        "  = 0.17474768364388282\n",
        "\n",
        "2) P(X=0) + P(X=1) + P(X=2) + P(X=3)\n",
        "\n",
        "  0.00822974704902003\n",
        "  0.03950278583529614\n",
        "  0.09480668600471075\n",
        "  0.15169069760753717\n",
        "\n",
        "  final answer = 0.2942299164965641\n",
        "\n",
        "3) no more than 3 customers\n",
        "\n",
        "  1 - 0.2942299164965641 = 0.705770083503436"
      ]
    },
    {
      "cell_type": "markdown",
      "metadata": {
        "id": "PK-rF6wTQW8e",
        "colab_type": "text"
      },
      "source": [
        "# Problem 8\n",
        "\n",
        "4620 words/hr and 6 errors/hr\n",
        "\n",
        "error rate = 6/4620 => 0.001298\n",
        "\n",
        "error rate in 455 words = 0.001298 * 455 =>0.59 (lambda)\n",
        "\n",
        "e^(-0.59) * (0.59^2)/2  => 0.09648066390804096\n",
        "\n",
        "1) lambda affected -> lambda increases with 1000 words and decreases with 255 words\n",
        "\n",
        "2) words = 1000 \n",
        "\n",
        "  0.001298 * 1000 = 1.2979999999999998\n",
        "\n",
        "  e^(-1.3) * (1.3^2)/2 = 0.23028936511374065\n",
        "\n",
        "  words = 255\n",
        "\n",
        "  0.001298 * 255 = 0.33098999999999995\n",
        "\n",
        "  e^(-0.33) * (0.33^2)/2 = 0.03914539728536839\n"
      ]
    },
    {
      "cell_type": "markdown",
      "metadata": {
        "id": "L6i0QjogT7es",
        "colab_type": "text"
      },
      "source": [
        "# Problem 10"
      ]
    },
    {
      "cell_type": "markdown",
      "metadata": {
        "id": "NWsOGMnSV0BY",
        "colab_type": "text"
      },
      "source": [
        "## Problem A\n",
        "(1) P(Z > 1.26)\n",
        "Z value for 1.26 = 0.89617\n",
        "Since Z >  1.26 => 1 - 0.89617 = 0.10382 \n",
        "\n",
        "(2)  P(Z < -0.86)\n",
        "Z value for -0.86 = 0.19489\n",
        "\n",
        "(3) P(Z > −1.37)\n",
        "Z value for -1.37 = 0.08534\n",
        "Since Z > -1.36 => 1 - 0.08534 = 0.91466\n",
        "\n",
        "(4) P(−1.25 < Z < 0.37)\n",
        "Z value for -1.25 = 0.10565 \n",
        "Z value for  0.37 = 0.64431 = 0.53866\n",
        "\n",
        "(5) P(Z ≤ −4.6) \n",
        "Z value for -4.6 = 0.00002 \n"
      ]
    },
    {
      "cell_type": "markdown",
      "metadata": {
        "id": "IEXLr5pEXmHS",
        "colab_type": "text"
      },
      "source": [
        "## Problem B\n",
        "(1) P(Z > z) = 0.05 \n",
        "Z score for 0.95 => 1.64 to 1.65  average 1.645"
      ]
    },
    {
      "cell_type": "markdown",
      "metadata": {
        "id": "PcesCFniXmyk",
        "colab_type": "text"
      },
      "source": [
        "## Problem C\n",
        "(1) P(−z < Z < z) = 0.99\n",
        "The value should somewehere lie between 2sd and 3sd\n",
        "z value of 2.40 and -2.40 => 0.99180 - 0.00820 = 0.9860 != 0.99\n",
        "z value of 2.49 and -2.49 => 0.99361 - 0.00639 = 0.98722\n",
        "z value of 2.55 and -2.55 => 0.99461 - 0.00539 = 0.98922\n",
        "z value of 2.58 and -2.58 => 0.99506 - 0.00494 = 0.99011 \n",
        "Value is approximately 2.58\n"
      ]
    },
    {
      "cell_type": "markdown",
      "metadata": {
        "id": "IsFjuoYKxJNe",
        "colab_type": "text"
      },
      "source": [
        "# Problem 11"
      ]
    },
    {
      "cell_type": "markdown",
      "metadata": {
        "id": "Etlf-GO47drT",
        "colab_type": "text"
      },
      "source": [
        "mean = 10\n",
        "sd = 2\n",
        "\n",
        "1)P(X>13) => 13 - 10 / 2\n",
        "\n",
        "  P(X > 1.5) \n",
        "\n",
        "  Z table for 1.5 is 0.93313\n",
        "\n",
        "  Hence X> 1.5 will be 1-0.93313 => 0.06696\n",
        "\n",
        "2) P(9 < X < 11) \n",
        "\n",
        "  P(-0.5 < X < 0.5) \n",
        "\n",
        "  Z value of -0.5 = 0.30854\n",
        "\n",
        "  Z value of 0.5 = 0.69146\n",
        "\n",
        "  Final answer is 0.69146 - 0.30854 => 0.38292\n",
        "\n",
        "3) P(X < x) = 0.98\n",
        "\n",
        "   z score = 2.05 approx\n",
        "\n",
        "   (x - 10) = 2 * 2.05\n",
        "\n",
        "   x = 14.1\n",
        "\n"
      ]
    },
    {
      "cell_type": "markdown",
      "metadata": {
        "id": "pg-HTagC7yOd",
        "colab_type": "text"
      },
      "source": [
        "# Problem 12\n",
        "\n",
        "1) mean = 0.2508\n",
        "\n",
        "   sd = 0.0005\n",
        "\n",
        "   specs = 0.2500 +- 0.0015 (3sd)\n",
        "\n",
        "   lowerbound = 0.2485\n",
        "   upper bound = 0.2515\n",
        "\n",
        "   P(0.2485 < Z < 0.2515)\n",
        "\n",
        "   Z score of 0.2485 = -4.6\n",
        "\n",
        "   Z score of 0.2515 = 1.4\n",
        "\n",
        "   P(-4.6 < Z < 1.4)\n",
        "\n",
        "   z table values of  \n",
        "\n",
        "   -4.6 = 0.00002\n",
        "   1.4 =  0.91924\n",
        "   \n",
        "   Probability = 0.9192\n",
        "\n",
        "2) if mean = 0.2500 \n",
        "\n",
        "   Z score of 0.2485 = -0.3000\n",
        "\n",
        "   Z score of 0.2515 = 0.3000\n",
        "\n",
        "   P(-0.3 < Z < 0.3)\n",
        "\n",
        "   Z table of -0.3 = 0.38209\n",
        "\n",
        "   Z table of 0.3 = 0.61791\n",
        "\n",
        "   Final probability = 0.2358"
      ]
    },
    {
      "cell_type": "code",
      "metadata": {
        "id": "CSuUoAWXBaUy",
        "colab_type": "code",
        "colab": {}
      },
      "source": [
        ""
      ],
      "execution_count": null,
      "outputs": []
    }
  ]
}