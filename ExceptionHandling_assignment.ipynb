{
  "nbformat": 4,
  "nbformat_minor": 0,
  "metadata": {
    "colab": {
      "name": "ExceptionHandling_assignment.ipynb",
      "provenance": [],
      "collapsed_sections": []
    },
    "kernelspec": {
      "name": "python3",
      "display_name": "Python 3"
    }
  },
  "cells": [
    {
      "cell_type": "markdown",
      "metadata": {
        "id": "hInOZWq0532q",
        "colab_type": "text"
      },
      "source": [
        "# Question 1"
      ]
    },
    {
      "cell_type": "markdown",
      "metadata": {
        "id": "WaWFvvmZ6Yx-",
        "colab_type": "text"
      },
      "source": [
        "## Try catch 5/0"
      ]
    },
    {
      "cell_type": "code",
      "metadata": {
        "id": "7OSfYTTK6aXf",
        "colab_type": "code",
        "colab": {
          "base_uri": "https://localhost:8080/",
          "height": 34
        },
        "outputId": "65d220f7-de8a-4375-bf22-5e3ad88e128b"
      },
      "source": [
        "try:\n",
        "  result = 5/0\n",
        "except:\n",
        "  print(\"Divide by zero exception\")"
      ],
      "execution_count": 1,
      "outputs": [
        {
          "output_type": "stream",
          "text": [
            "Divide by zero exception\n"
          ],
          "name": "stdout"
        }
      ]
    },
    {
      "cell_type": "markdown",
      "metadata": {
        "id": "-9H5O5rQ6gQ9",
        "colab_type": "text"
      },
      "source": [
        "# Question 2"
      ]
    },
    {
      "cell_type": "markdown",
      "metadata": {
        "id": "EIX3_Bgi6nXM",
        "colab_type": "text"
      },
      "source": [
        "## All possible permuations and combinations"
      ]
    },
    {
      "cell_type": "code",
      "metadata": {
        "id": "w8J5_VLO6pdc",
        "colab_type": "code",
        "colab": {}
      },
      "source": [
        "from itertools import product\n",
        "def generate_sentences():\n",
        "  subject = [\"Americans\",\"Indians\"]\n",
        "  verbs = [\"play\",\"watch\"]\n",
        "  objects = [\"basketball\",\"cricket\"]\n",
        "  mylist = []\n",
        "  mylist.append(subject)\n",
        "  mylist.append(verbs)\n",
        "  mylist.append(objects)\n",
        "  list_of_tuples = list(product(*mylist))\n",
        "  join_string = lambda x: \" \".join(x)\n",
        "  return list(map(join_string, list_of_tuples))"
      ],
      "execution_count": 18,
      "outputs": []
    },
    {
      "cell_type": "code",
      "metadata": {
        "colab_type": "code",
        "id": "IfzpxK2v-4o0",
        "colab": {
          "base_uri": "https://localhost:8080/",
          "height": 151
        },
        "outputId": "6fee3815-ec1e-4718-f1e1-a92b3634ed85"
      },
      "source": [
        "generate_sentences()"
      ],
      "execution_count": 19,
      "outputs": [
        {
          "output_type": "execute_result",
          "data": {
            "text/plain": [
              "['Americans play basketball',\n",
              " 'Americans play cricket',\n",
              " 'Americans watch basketball',\n",
              " 'Americans watch cricket',\n",
              " 'Indians play basketball',\n",
              " 'Indians play cricket',\n",
              " 'Indians watch basketball',\n",
              " 'Indians watch cricket']"
            ]
          },
          "metadata": {
            "tags": []
          },
          "execution_count": 19
        }
      ]
    },
    {
      "cell_type": "code",
      "metadata": {
        "id": "ibQTLr4h-A7e",
        "colab_type": "code",
        "colab": {}
      },
      "source": [
        ""
      ],
      "execution_count": null,
      "outputs": []
    }
  ]
}