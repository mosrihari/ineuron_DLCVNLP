{
  "nbformat": 4,
  "nbformat_minor": 0,
  "metadata": {
    "colab": {
      "name": "Python_assignment3.ipynb",
      "provenance": [],
      "collapsed_sections": []
    },
    "kernelspec": {
      "name": "python3",
      "display_name": "Python 3"
    }
  },
  "cells": [
    {
      "cell_type": "markdown",
      "metadata": {
        "id": "H_mTj761iJZu",
        "colab_type": "text"
      },
      "source": [
        "# Question 1"
      ]
    },
    {
      "cell_type": "markdown",
      "metadata": {
        "id": "kf9FHRJXiX36",
        "colab_type": "text"
      },
      "source": [
        "## Question 1.1"
      ]
    },
    {
      "cell_type": "code",
      "metadata": {
        "id": "aiBjBTRhiZPu",
        "colab_type": "code",
        "colab": {}
      },
      "source": [
        "def myreduce(function, iterable):\n",
        "  result = None\n",
        "  a = iterable[0]\n",
        "  b = iterable[1]\n",
        "  result = function(a,b)\n",
        "  for val in iterable[2:]:\n",
        "    result = function(result,val)\n",
        "  return result"
      ],
      "execution_count": 4,
      "outputs": []
    },
    {
      "cell_type": "code",
      "metadata": {
        "id": "ZgJqsYXIjluc",
        "colab_type": "code",
        "colab": {
          "base_uri": "https://localhost:8080/",
          "height": 34
        },
        "outputId": "a4a7c9a4-86ce-4841-b40f-43402da00793"
      },
      "source": [
        "function = lambda x,y: x*y\n",
        "myreduce(function, [1,2,3,4,5,6])"
      ],
      "execution_count": 5,
      "outputs": [
        {
          "output_type": "execute_result",
          "data": {
            "text/plain": [
              "720"
            ]
          },
          "metadata": {
            "tags": []
          },
          "execution_count": 5
        }
      ]
    },
    {
      "cell_type": "code",
      "metadata": {
        "id": "VCjzGzaDjqmP",
        "colab_type": "code",
        "colab": {
          "base_uri": "https://localhost:8080/",
          "height": 34
        },
        "outputId": "64820bb3-26fb-4c39-da58-299c9a6c92cd"
      },
      "source": [
        "function = lambda x,y: x+y\n",
        "myreduce(function, [1,2,3,4,5,6])"
      ],
      "execution_count": 6,
      "outputs": [
        {
          "output_type": "execute_result",
          "data": {
            "text/plain": [
              "21"
            ]
          },
          "metadata": {
            "tags": []
          },
          "execution_count": 6
        }
      ]
    },
    {
      "cell_type": "code",
      "metadata": {
        "id": "5oECmP_Bj0em",
        "colab_type": "code",
        "colab": {
          "base_uri": "https://localhost:8080/",
          "height": 35
        },
        "outputId": "4b51e00a-10d9-4591-845c-813d50c4d06c"
      },
      "source": [
        "function = lambda x,y: x+\",\"+y\n",
        "myreduce(function,\"srihari\")"
      ],
      "execution_count": 8,
      "outputs": [
        {
          "output_type": "execute_result",
          "data": {
            "application/vnd.google.colaboratory.intrinsic+json": {
              "type": "string"
            },
            "text/plain": [
              "'s,r,i,h,a,r,i'"
            ]
          },
          "metadata": {
            "tags": []
          },
          "execution_count": 8
        }
      ]
    },
    {
      "cell_type": "markdown",
      "metadata": {
        "id": "Bf_MiET9kCM2",
        "colab_type": "text"
      },
      "source": [
        "## Question 1.2"
      ]
    },
    {
      "cell_type": "code",
      "metadata": {
        "id": "BdUMRVUOkIay",
        "colab_type": "code",
        "colab": {}
      },
      "source": [
        "from itertools import compress\n",
        "def myfilter(function, iterable):\n",
        "  iterable = list(iterable)\n",
        "  boolean_list = []\n",
        "  for val in iterable:\n",
        "    boolean_list.append(function(val))\n",
        "  return list(compress(iterable, boolean_list))"
      ],
      "execution_count": 9,
      "outputs": []
    },
    {
      "cell_type": "code",
      "metadata": {
        "id": "g4WMfNCjldHg",
        "colab_type": "code",
        "colab": {
          "base_uri": "https://localhost:8080/",
          "height": 34
        },
        "outputId": "7edc845d-d090-43fe-c8bb-1af317a11afb"
      },
      "source": [
        "function = lambda x: x%2==0\n",
        "myfilter(function,[1,2,3,4,5,6])"
      ],
      "execution_count": 10,
      "outputs": [
        {
          "output_type": "execute_result",
          "data": {
            "text/plain": [
              "[2, 4, 6]"
            ]
          },
          "metadata": {
            "tags": []
          },
          "execution_count": 10
        }
      ]
    },
    {
      "cell_type": "markdown",
      "metadata": {
        "id": "oXZg9wtclhdx",
        "colab_type": "text"
      },
      "source": [
        "# Question 2"
      ]
    },
    {
      "cell_type": "code",
      "metadata": {
        "id": "27pTfm2ylrr1",
        "colab_type": "code",
        "colab": {}
      },
      "source": [
        "alphabets = ['x','y','z']"
      ],
      "execution_count": 11,
      "outputs": []
    },
    {
      "cell_type": "code",
      "metadata": {
        "id": "0gk-dHDbl6Ai",
        "colab_type": "code",
        "colab": {}
      },
      "source": [
        "first_list = [a * i for a in alphabets for i in range(1,5)]"
      ],
      "execution_count": 12,
      "outputs": []
    },
    {
      "cell_type": "code",
      "metadata": {
        "id": "8owvtgR8mGQo",
        "colab_type": "code",
        "colab": {
          "base_uri": "https://localhost:8080/",
          "height": 34
        },
        "outputId": "411c37f5-2454-4d22-9698-55ab40e01dee"
      },
      "source": [
        "first_list"
      ],
      "execution_count": 13,
      "outputs": [
        {
          "output_type": "execute_result",
          "data": {
            "text/plain": [
              "['x', 'xx', 'xxx', 'xxxx', 'y', 'yy', 'yyy', 'yyyy', 'z', 'zz', 'zzz', 'zzzz']"
            ]
          },
          "metadata": {
            "tags": []
          },
          "execution_count": 13
        }
      ]
    },
    {
      "cell_type": "code",
      "metadata": {
        "id": "tl3wqQd_mHYO",
        "colab_type": "code",
        "colab": {}
      },
      "source": [
        "second_list = [a * i for i in range(1,5) for a in alphabets ]"
      ],
      "execution_count": 15,
      "outputs": []
    },
    {
      "cell_type": "code",
      "metadata": {
        "id": "ugqyE_ZEmVjv",
        "colab_type": "code",
        "colab": {
          "base_uri": "https://localhost:8080/",
          "height": 34
        },
        "outputId": "90459d69-7a4d-4bf3-b2eb-f4db9991a698"
      },
      "source": [
        "second_list"
      ],
      "execution_count": 16,
      "outputs": [
        {
          "output_type": "execute_result",
          "data": {
            "text/plain": [
              "['x', 'y', 'z', 'xx', 'yy', 'zz', 'xxx', 'yyy', 'zzz', 'xxxx', 'yyyy', 'zzzz']"
            ]
          },
          "metadata": {
            "tags": []
          },
          "execution_count": 16
        }
      ]
    },
    {
      "cell_type": "code",
      "metadata": {
        "id": "9cJlAz9bnAyW",
        "colab_type": "code",
        "colab": {
          "base_uri": "https://localhost:8080/",
          "height": 34
        },
        "outputId": "eb2a5c2f-c065-45eb-af07-1c5d4126af1e"
      },
      "source": [
        "third_list = [[y] for x in range(2,5) for y in range(x, x+3)]\n",
        "third_list"
      ],
      "execution_count": 21,
      "outputs": [
        {
          "output_type": "execute_result",
          "data": {
            "text/plain": [
              "[[2], [3], [4], [3], [4], [5], [4], [5], [6]]"
            ]
          },
          "metadata": {
            "tags": []
          },
          "execution_count": 21
        }
      ]
    },
    {
      "cell_type": "code",
      "metadata": {
        "id": "V1yAe0Gio0yS",
        "colab_type": "code",
        "colab": {
          "base_uri": "https://localhost:8080/",
          "height": 34
        },
        "outputId": "065236fd-22b9-44b2-bd7d-08273b9c428e"
      },
      "source": [
        "fourth_list = [[y for y in range(x, x+4)] for x in range(2,6)]\n",
        "fourth_list"
      ],
      "execution_count": 23,
      "outputs": [
        {
          "output_type": "execute_result",
          "data": {
            "text/plain": [
              "[[2, 3, 4, 5], [3, 4, 5, 6], [4, 5, 6, 7], [5, 6, 7, 8]]"
            ]
          },
          "metadata": {
            "tags": []
          },
          "execution_count": 23
        }
      ]
    },
    {
      "cell_type": "code",
      "metadata": {
        "id": "ZKkiWaoQmgqs",
        "colab_type": "code",
        "colab": {
          "base_uri": "https://localhost:8080/",
          "height": 34
        },
        "outputId": "62e5bb72-1cab-4634-801a-0b545a954134"
      },
      "source": [
        "fifth_list = [(y,x) for x in range(1,4) for y in range(1,4)]\n",
        "fifth_list"
      ],
      "execution_count": 19,
      "outputs": [
        {
          "output_type": "execute_result",
          "data": {
            "text/plain": [
              "[(1, 1), (2, 1), (3, 1), (1, 2), (2, 2), (3, 2), (1, 3), (2, 3), (3, 3)]"
            ]
          },
          "metadata": {
            "tags": []
          },
          "execution_count": 19
        }
      ]
    },
    {
      "cell_type": "code",
      "metadata": {
        "id": "KzEhdrfCm4rI",
        "colab_type": "code",
        "colab": {}
      },
      "source": [
        ""
      ],
      "execution_count": null,
      "outputs": []
    }
  ]
}