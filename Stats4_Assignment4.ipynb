{
  "nbformat": 4,
  "nbformat_minor": 0,
  "metadata": {
    "colab": {
      "name": "Stats4_Assignment4.ipynb",
      "provenance": [],
      "collapsed_sections": []
    },
    "kernelspec": {
      "name": "python3",
      "display_name": "Python 3"
    }
  },
  "cells": [
    {
      "cell_type": "markdown",
      "metadata": {
        "id": "A5arAx06yvbg",
        "colab_type": "text"
      },
      "source": [
        "# Problem 1"
      ]
    },
    {
      "cell_type": "code",
      "metadata": {
        "id": "0IIad3U_8maf",
        "colab_type": "code",
        "colab": {}
      },
      "source": [
        "import numpy as np"
      ],
      "execution_count": null,
      "outputs": []
    },
    {
      "cell_type": "code",
      "metadata": {
        "id": "f2yDgpaX7pod",
        "colab_type": "code",
        "colab": {}
      },
      "source": [
        "observed = [60,54,46,41,40,44,53,57]"
      ],
      "execution_count": null,
      "outputs": []
    },
    {
      "cell_type": "code",
      "metadata": {
        "id": "tjakHmTa78WC",
        "colab_type": "code",
        "colab": {}
      },
      "source": [
        "expected = [51,50,50,50,49,48,49,48]"
      ],
      "execution_count": null,
      "outputs": []
    },
    {
      "cell_type": "code",
      "metadata": {
        "id": "Whu0CCrEdQhh",
        "colab_type": "code",
        "colab": {}
      },
      "source": [
        "obs_minus_exp_div_exp = [np.power((a-b),2)/b for a,b in zip(observed,expected)]"
      ],
      "execution_count": null,
      "outputs": []
    },
    {
      "cell_type": "code",
      "metadata": {
        "id": "HL0G1ckFdYpV",
        "colab_type": "code",
        "colab": {
          "base_uri": "https://localhost:8080/",
          "height": 151
        },
        "outputId": "b658caf6-34f3-4bb4-c6f7-c88eaa5e5508"
      },
      "source": [
        "obs_minus_exp_div_exp"
      ],
      "execution_count": null,
      "outputs": [
        {
          "output_type": "execute_result",
          "data": {
            "text/plain": [
              "[1.588235294117647,\n",
              " 0.32,\n",
              " 0.32,\n",
              " 1.62,\n",
              " 1.653061224489796,\n",
              " 0.3333333333333333,\n",
              " 0.32653061224489793,\n",
              " 1.6875]"
            ]
          },
          "metadata": {
            "tags": []
          },
          "execution_count": 11
        }
      ]
    },
    {
      "cell_type": "code",
      "metadata": {
        "id": "fmh6yGjMdnU3",
        "colab_type": "code",
        "colab": {
          "base_uri": "https://localhost:8080/",
          "height": 34
        },
        "outputId": "95160f29-c11d-4a9d-e9ab-81c14ccd64db"
      },
      "source": [
        "np.sum(obs_minus_exp_div_exp)"
      ],
      "execution_count": null,
      "outputs": [
        {
          "output_type": "execute_result",
          "data": {
            "text/plain": [
              "7.8486604641856745"
            ]
          },
          "metadata": {
            "tags": []
          },
          "execution_count": 12
        }
      ]
    },
    {
      "cell_type": "markdown",
      "metadata": {
        "id": "5-2xpIup8iqW",
        "colab_type": "text"
      },
      "source": [
        "H0 -> there is a relationship\n",
        "\n",
        "H1 -> there is no relationship\n",
        "\n",
        "chi critical => dof = 3\n",
        "\n",
        "7.815\n",
        "\n",
        "chi test >  chi critical \n",
        "\n",
        "Accept null hypothesis"
      ]
    },
    {
      "cell_type": "markdown",
      "metadata": {
        "id": "LuuAEE5i9FEP",
        "colab_type": "text"
      },
      "source": [
        "# Problem 2"
      ]
    },
    {
      "cell_type": "code",
      "metadata": {
        "id": "kWQWwI96-W7c",
        "colab_type": "code",
        "colab": {}
      },
      "source": [
        "g1 = [51, 45, 33, 45, 67]\n",
        "g2 = [23, 43, 23, 43, 45]\n",
        "g3 = [56, 76, 74, 87, 56]"
      ],
      "execution_count": null,
      "outputs": []
    },
    {
      "cell_type": "code",
      "metadata": {
        "id": "fXrj1OZNDNmJ",
        "colab_type": "code",
        "colab": {}
      },
      "source": [
        "import numpy as np"
      ],
      "execution_count": null,
      "outputs": []
    },
    {
      "cell_type": "code",
      "metadata": {
        "id": "lUc0hp0PDPt3",
        "colab_type": "code",
        "colab": {}
      },
      "source": [
        "g1_mean = np.mean(g1)\n",
        "g2_mean = np.mean(g2)\n",
        "g3_mean = np.mean(g3)"
      ],
      "execution_count": null,
      "outputs": []
    },
    {
      "cell_type": "code",
      "metadata": {
        "id": "NSi3ZtgeEGqs",
        "colab_type": "code",
        "colab": {}
      },
      "source": [
        "grand_mean = np.mean(np.array([g1_mean,g2_mean,g3_mean]))"
      ],
      "execution_count": null,
      "outputs": []
    },
    {
      "cell_type": "code",
      "metadata": {
        "id": "SqWYodJZEPYM",
        "colab_type": "code",
        "colab": {
          "base_uri": "https://localhost:8080/",
          "height": 33
        },
        "outputId": "b9319730-6cf1-440c-df8d-41a6a84c7af8"
      },
      "source": [
        "grand_mean"
      ],
      "execution_count": null,
      "outputs": [
        {
          "output_type": "execute_result",
          "data": {
            "text/plain": [
              "51.133333333333326"
            ]
          },
          "metadata": {
            "tags": []
          },
          "execution_count": 8
        }
      ]
    },
    {
      "cell_type": "code",
      "metadata": {
        "id": "CS4tvAokDZ0G",
        "colab_type": "code",
        "colab": {}
      },
      "source": [
        "def data_mean(group, groupmean):\n",
        "  return np.sum([np.power(a-groupmean,2) for a in group])\n",
        "  "
      ],
      "execution_count": null,
      "outputs": []
    },
    {
      "cell_type": "code",
      "metadata": {
        "id": "vof8QcwvDyc8",
        "colab_type": "code",
        "colab": {}
      },
      "source": [
        "g1_g1 = data_mean(g1, g1_mean)\n",
        "g2_g2 = data_mean(g2, g2_mean)\n",
        "g3_g3 = data_mean(g3, g3_mean)"
      ],
      "execution_count": null,
      "outputs": []
    },
    {
      "cell_type": "code",
      "metadata": {
        "id": "0FIpJBjDD6lY",
        "colab_type": "code",
        "colab": {}
      },
      "source": [
        "ss_between = (5 * np.power((g1_mean - grand_mean),2)) + (5 * np.power((g2_mean - grand_mean),2)) + (5 * np.power((g2_mean - grand_mean),2))"
      ],
      "execution_count": null,
      "outputs": []
    },
    {
      "cell_type": "code",
      "metadata": {
        "id": "ujw3K7XLFRUQ",
        "colab_type": "code",
        "colab": {}
      },
      "source": [
        "msst = ss_between / (3-1)"
      ],
      "execution_count": null,
      "outputs": []
    },
    {
      "cell_type": "code",
      "metadata": {
        "id": "ymESykW6FW6J",
        "colab_type": "code",
        "colab": {}
      },
      "source": [
        "ss_within = g1_g1 + g2_g2 + g3_g3 "
      ],
      "execution_count": null,
      "outputs": []
    },
    {
      "cell_type": "code",
      "metadata": {
        "id": "qgCJ77LkFdYB",
        "colab_type": "code",
        "colab": {}
      },
      "source": [
        "MSSE = ss_within / (15 - 3)"
      ],
      "execution_count": null,
      "outputs": []
    },
    {
      "cell_type": "code",
      "metadata": {
        "id": "psld_38hFiu3",
        "colab_type": "code",
        "colab": {}
      },
      "source": [
        "F_stats = msst / MSSE"
      ],
      "execution_count": null,
      "outputs": []
    },
    {
      "cell_type": "code",
      "metadata": {
        "id": "d7ND-vI5FnCm",
        "colab_type": "code",
        "colab": {
          "base_uri": "https://localhost:8080/",
          "height": 33
        },
        "outputId": "f0d4a0c5-5729-46df-aa56-4b8908d13b21"
      },
      "source": [
        "F_stats"
      ],
      "execution_count": null,
      "outputs": [
        {
          "output_type": "execute_result",
          "data": {
            "text/plain": [
              "8.120378331900252"
            ]
          },
          "metadata": {
            "tags": []
          },
          "execution_count": 15
        }
      ]
    },
    {
      "cell_type": "markdown",
      "metadata": {
        "id": "0F-xw734FsND",
        "colab_type": "text"
      },
      "source": [
        "at 5% significance , dof (2,12)\n",
        "\n",
        "F critical 3.89\n",
        "\n",
        "F test > F critical Hence we accept null hypothesis"
      ]
    },
    {
      "cell_type": "markdown",
      "metadata": {
        "id": "bgWLClwQ-VfR",
        "colab_type": "text"
      },
      "source": [
        "# Problem 3"
      ]
    },
    {
      "cell_type": "code",
      "metadata": {
        "id": "8oppMz8G-WWh",
        "colab_type": "code",
        "colab": {}
      },
      "source": [
        "g1 = [10, 20, 30, 40, 50]\n",
        "g2 = [5,10,15, 20, 25]\n",
        "g3 = [10, 20, 30, 40, 50]"
      ],
      "execution_count": null,
      "outputs": []
    },
    {
      "cell_type": "code",
      "metadata": {
        "colab_type": "code",
        "id": "chdFo_veHVwn",
        "colab": {}
      },
      "source": [
        "g1_mean = np.mean(g1)\n",
        "g2_mean = np.mean(g2)\n",
        "g3_mean = np.mean(g3)"
      ],
      "execution_count": null,
      "outputs": []
    },
    {
      "cell_type": "code",
      "metadata": {
        "colab_type": "code",
        "id": "4GqAHJsoHVwz",
        "colab": {}
      },
      "source": [
        "grand_mean = np.mean(np.array([g1_mean,g2_mean,g3_mean]))"
      ],
      "execution_count": null,
      "outputs": []
    },
    {
      "cell_type": "code",
      "metadata": {
        "colab_type": "code",
        "id": "TeYgCpdwHVw8",
        "colab": {
          "base_uri": "https://localhost:8080/",
          "height": 33
        },
        "outputId": "1d488496-34e1-4e1c-bc46-d75109d5dd63"
      },
      "source": [
        "grand_mean"
      ],
      "execution_count": null,
      "outputs": [
        {
          "output_type": "execute_result",
          "data": {
            "text/plain": [
              "25.0"
            ]
          },
          "metadata": {
            "tags": []
          },
          "execution_count": 19
        }
      ]
    },
    {
      "cell_type": "code",
      "metadata": {
        "colab_type": "code",
        "id": "0YgF7iRBHVxL",
        "colab": {}
      },
      "source": [
        "def data_mean(group, groupmean):\n",
        "  return np.sum([np.power(a-groupmean,2) for a in group])\n",
        "  "
      ],
      "execution_count": null,
      "outputs": []
    },
    {
      "cell_type": "code",
      "metadata": {
        "colab_type": "code",
        "id": "ZGCf5KepHVxU",
        "colab": {}
      },
      "source": [
        "g1_g1 = data_mean(g1, g1_mean)\n",
        "g2_g2 = data_mean(g2, g2_mean)\n",
        "g3_g3 = data_mean(g3, g3_mean)"
      ],
      "execution_count": null,
      "outputs": []
    },
    {
      "cell_type": "code",
      "metadata": {
        "colab_type": "code",
        "id": "QpaqtClFHVxc",
        "colab": {}
      },
      "source": [
        "ss_between = (5 * np.power((g1_mean - grand_mean),2)) + (5 * np.power((g2_mean - grand_mean),2)) + (5 * np.power((g2_mean - grand_mean),2))"
      ],
      "execution_count": null,
      "outputs": []
    },
    {
      "cell_type": "code",
      "metadata": {
        "colab_type": "code",
        "id": "ipeOgLQqHVxk",
        "colab": {}
      },
      "source": [
        "msst = ss_between / (3-1)"
      ],
      "execution_count": null,
      "outputs": []
    },
    {
      "cell_type": "code",
      "metadata": {
        "colab_type": "code",
        "id": "3ro4u4dbHVxs",
        "colab": {}
      },
      "source": [
        "ss_within = g1_g1 + g2_g2 + g3_g3 "
      ],
      "execution_count": null,
      "outputs": []
    },
    {
      "cell_type": "code",
      "metadata": {
        "colab_type": "code",
        "id": "LPJryEnLHVx0",
        "colab": {}
      },
      "source": [
        "MSSE = ss_within / (15 - 3)"
      ],
      "execution_count": null,
      "outputs": []
    },
    {
      "cell_type": "code",
      "metadata": {
        "colab_type": "code",
        "id": "164ZbqJaHVx8",
        "colab": {}
      },
      "source": [
        "F_stats = msst / MSSE"
      ],
      "execution_count": null,
      "outputs": []
    },
    {
      "cell_type": "code",
      "metadata": {
        "colab_type": "code",
        "id": "-ghCAkStHVyH",
        "colab": {
          "base_uri": "https://localhost:8080/",
          "height": 33
        },
        "outputId": "4413b256-013e-4f6c-d915-442ac0dcf8bd"
      },
      "source": [
        "F_stats"
      ],
      "execution_count": null,
      "outputs": [
        {
          "output_type": "execute_result",
          "data": {
            "text/plain": [
              "3.0"
            ]
          },
          "metadata": {
            "tags": []
          },
          "execution_count": 27
        }
      ]
    },
    {
      "cell_type": "code",
      "metadata": {
        "id": "-_tCbMg6HSAK",
        "colab_type": "code",
        "colab": {}
      },
      "source": [
        ""
      ],
      "execution_count": null,
      "outputs": []
    }
  ]
}