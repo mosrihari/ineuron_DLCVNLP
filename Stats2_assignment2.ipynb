{
  "nbformat": 4,
  "nbformat_minor": 0,
  "metadata": {
    "colab": {
      "name": "Stats2_assignment2.ipynb",
      "provenance": [],
      "collapsed_sections": []
    },
    "kernelspec": {
      "name": "python3",
      "display_name": "Python 3"
    }
  },
  "cells": [
    {
      "cell_type": "markdown",
      "metadata": {
        "id": "2NhAdhPq6KJi",
        "colab_type": "text"
      },
      "source": [
        "# Problem 1\n",
        "\n",
        "1) Correct -> as per ANOVA testing\n",
        "\n",
        "2) Incorrect -> alternate hypothesis is too certain and the null hypothesis is not too specific. \n",
        "\n",
        "3) Correct -> population unknown we can perform t-test or z-test (depends on sample size anyway)\n",
        "\n",
        "4) incorrect -> cannot use p value for hypothesis\n",
        "\n",
        "5) correct -> sample variance check . Can be done using t-test or z-test"
      ]
    },
    {
      "cell_type": "markdown",
      "metadata": {
        "id": "zANQvHuJ9irD",
        "colab_type": "text"
      },
      "source": [
        "# Problem 2"
      ]
    },
    {
      "cell_type": "code",
      "metadata": {
        "id": "8nbEoR_1-WT8",
        "colab_type": "code",
        "colab": {
          "base_uri": "https://localhost:8080/",
          "height": 34
        },
        "outputId": "28154c59-f522-4da4-9e20-09ffbd9ab4cd"
      },
      "source": [
        "mean = 52\n",
        "sd = 4.5\n",
        "\n",
        "sample_mean = 52.8\n",
        "sample_size = 100\n",
        "sig = 0.05\n",
        "\n",
        "z_score = (sample_mean - mean) / (4.5/10)\n",
        "print(z_score)"
      ],
      "execution_count": null,
      "outputs": [
        {
          "output_type": "stream",
          "text": [
            "1.7777777777777715\n"
          ],
          "name": "stdout"
        }
      ]
    },
    {
      "cell_type": "markdown",
      "metadata": {
        "id": "Pj0U4p__AYwZ",
        "colab_type": "text"
      },
      "source": [
        "z score of 0.05 = 0.51994\n",
        "Z Test >  Z critical\n",
        "accept null hypothesis\n",
        "claim of avg 52 is correct"
      ]
    },
    {
      "cell_type": "markdown",
      "metadata": {
        "id": "_7EHyqW3A65N",
        "colab_type": "text"
      },
      "source": [
        "# Problem 3"
      ]
    },
    {
      "cell_type": "markdown",
      "metadata": {
        "id": "mWp5az4jQw19",
        "colab_type": "text"
      },
      "source": [
        "H0 -> Mean < 34\n",
        "H1 -> Mean > 34\n",
        "\n",
        "pop_mean = 34\n",
        "pop_sd = 8\n",
        "\n",
        "n =50\n",
        "sample_mean = 32.5\n",
        "sig = 0.01\n",
        "\n",
        "z score = (32.5 - 34) / (8/sqrt(50)) => -1.3258252147247767 => 0.09342\n",
        "\n",
        "Z(critical) = 0.50399\n",
        "\n",
        "Z critical > Z test\n",
        "\n",
        "Hence we reject null hypothesis. The claim is incorrect"
      ]
    },
    {
      "cell_type": "markdown",
      "metadata": {
        "id": "n_X0tyqSTDX2",
        "colab_type": "text"
      },
      "source": [
        "# Problem 4"
      ]
    },
    {
      "cell_type": "code",
      "metadata": {
        "id": "rAUDMwDXTLPF",
        "colab_type": "code",
        "colab": {
          "base_uri": "https://localhost:8080/",
          "height": 50
        },
        "outputId": "bed3e2d7-6f63-409b-d1fb-0c85b6341626"
      },
      "source": [
        "import numpy as np\n",
        "sample_mean = np.mean([1008, 812, 1117, 1323, 1308, 1415, 831, 1021, 1287, 851, 930, 730, 699,\n",
        "872, 913, 944, 954, 987, 1695, 995, 1003, 994])\n",
        "\n",
        "sample_sd = np.std([1008, 812, 1117, 1323, 1308, 1415, 831, 1021, 1287, 851, 930, 730, 699,\n",
        "872, 913, 944, 954, 987, 1695, 995, 1003, 994])\n",
        "\n",
        "print(sample_mean)\n",
        "print(sample_sd)"
      ],
      "execution_count": null,
      "outputs": [
        {
          "output_type": "stream",
          "text": [
            "1031.3181818181818\n",
            "234.84799462314425\n"
          ],
          "name": "stdout"
        }
      ]
    },
    {
      "cell_type": "markdown",
      "metadata": {
        "id": "qGGYNoDMpnDC",
        "colab_type": "text"
      },
      "source": [
        "H0 -> Mean = 1135\n",
        "\n",
        "H1 -> Mean != 1135\n",
        "\n",
        "n = 22 \n",
        "\n",
        "t_score = (1031.318 - 1135) / (234.85/sqrt(22)) = -2.070733177815682\n",
        "\n",
        "sig = 0.5\n",
        "\n",
        "df = 21\n",
        "\n",
        "its a two tail test \n",
        "\n",
        "t(test) = 0.686\n",
        "\n",
        "t(test) > t(critical) \n",
        "\n",
        "Hence we accept null hypothesis\n"
      ]
    },
    {
      "cell_type": "markdown",
      "metadata": {
        "id": "5SsdWHW3qAwC",
        "colab_type": "text"
      },
      "source": [
        "# Problem 5"
      ]
    },
    {
      "cell_type": "markdown",
      "metadata": {
        "id": "zL-RB1YAqBiu",
        "colab_type": "text"
      },
      "source": [
        "H0 -> mean 48432\n",
        "\n",
        "H1 -> mean != 48432\n",
        "\n",
        "\n",
        "mean = 48432\n",
        "\n",
        "sample mean = 48574\n",
        "\n",
        "sample_sd = 2000\n",
        "\n",
        "n = 400\n"
      ]
    },
    {
      "cell_type": "code",
      "metadata": {
        "id": "tOjyw9i9r0Ed",
        "colab_type": "code",
        "colab": {}
      },
      "source": [
        "def z_score(pmean, smean, ssd, n):\n",
        "  return (pmean - smean)/(ssd/math.sqrt(n))"
      ],
      "execution_count": null,
      "outputs": []
    },
    {
      "cell_type": "code",
      "metadata": {
        "id": "5AN7aRQGr-MK",
        "colab_type": "code",
        "colab": {
          "base_uri": "https://localhost:8080/",
          "height": 34
        },
        "outputId": "feeca81e-aa9c-453e-c8ac-68371e0cf7b4"
      },
      "source": [
        "z_score(48432,48574,2000,400)"
      ],
      "execution_count": null,
      "outputs": [
        {
          "output_type": "execute_result",
          "data": {
            "text/plain": [
              "-1.42"
            ]
          },
          "metadata": {
            "tags": []
          },
          "execution_count": 9
        }
      ]
    },
    {
      "cell_type": "markdown",
      "metadata": {
        "id": "nmsfC9kfsC9a",
        "colab_type": "text"
      },
      "source": [
        "Usually the significance we can have is 0.05 (standard) \n",
        "\n",
        "Z(test) = 0.07780\n",
        "\n",
        "Z_test > Z_critical\n",
        "\n",
        "Hence we accept null hypothesis\n",
        "\n"
      ]
    },
    {
      "cell_type": "markdown",
      "metadata": {
        "id": "rMjK_-Ctshoe",
        "colab_type": "text"
      },
      "source": [
        "# Problem 6\n",
        "\n",
        "mean = 32.28\n",
        "\n",
        "n = 19\n",
        "\n",
        "sample_mean = 31.67\n",
        "\n",
        "sample_sd = 1.29\n",
        "\n",
        "H0-> mean = 32.28\n",
        "\n",
        "H1-> mean != 32.28\n"
      ]
    },
    {
      "cell_type": "code",
      "metadata": {
        "id": "QQc-yAmWsjSl",
        "colab_type": "code",
        "colab": {
          "base_uri": "https://localhost:8080/",
          "height": 34
        },
        "outputId": "0e387900-5f12-4273-8e11-1a23642fc7fc"
      },
      "source": [
        "z_score(32.28,31.67,1.29,19)"
      ],
      "execution_count": null,
      "outputs": [
        {
          "output_type": "execute_result",
          "data": {
            "text/plain": [
              "2.06118477175179"
            ]
          },
          "metadata": {
            "tags": []
          },
          "execution_count": 10
        }
      ]
    },
    {
      "cell_type": "markdown",
      "metadata": {
        "id": "SnjRDsLYuTyb",
        "colab_type": "text"
      },
      "source": [
        "t score = 2.06118477175179\n",
        "\n",
        "its a 2 tailed test\n",
        "\n",
        "df = 18\n",
        "\n",
        "Hence t(critical) = 2.101\n",
        "\n",
        "\n",
        "t_test < t critical\n",
        "\n",
        "Reject Null hypothesis\n"
      ]
    },
    {
      "cell_type": "markdown",
      "metadata": {
        "id": "AvgSKJpDuzU2",
        "colab_type": "text"
      },
      "source": [
        "# Problem 7"
      ]
    },
    {
      "cell_type": "markdown",
      "metadata": {
        "id": "TIq025u8u0i_",
        "colab_type": "text"
      },
      "source": [
        "# Problem 8\n",
        "\n",
        "pmean = 10\n",
        "\n",
        "smean = 12\n",
        "\n",
        "ssd = 1.5\n",
        "\n",
        "n = 16"
      ]
    },
    {
      "cell_type": "code",
      "metadata": {
        "id": "kO-btJmu4x0p",
        "colab_type": "code",
        "colab": {
          "base_uri": "https://localhost:8080/",
          "height": 34
        },
        "outputId": "b8d1de13-69cc-403f-cb84-2f67de8100e5"
      },
      "source": [
        "z_score(10 ,12, 1.5, 16) # t score"
      ],
      "execution_count": null,
      "outputs": [
        {
          "output_type": "execute_result",
          "data": {
            "text/plain": [
              "-5.333333333333333"
            ]
          },
          "metadata": {
            "tags": []
          },
          "execution_count": 12
        }
      ]
    },
    {
      "cell_type": "markdown",
      "metadata": {
        "id": "lmVajbxo5EOr",
        "colab_type": "text"
      },
      "source": [
        "# Problem 9"
      ]
    },
    {
      "cell_type": "code",
      "metadata": {
        "id": "aMRabhDp5KDG",
        "colab_type": "code",
        "colab": {}
      },
      "source": [
        "sample_size = 16\n",
        "df = 15\n",
        "t_score = 2.947 "
      ],
      "execution_count": null,
      "outputs": []
    },
    {
      "cell_type": "markdown",
      "metadata": {
        "id": "lNKm1OTW5iqQ",
        "colab_type": "text"
      },
      "source": [
        "# Problem 10"
      ]
    },
    {
      "cell_type": "code",
      "metadata": {
        "id": "0DbG0U1A5l1f",
        "colab_type": "code",
        "colab": {}
      },
      "source": [
        "n = 25\n",
        "pop_sd = 4\n",
        "pop_mean = 60\n",
        "95% of all sample means t score\n",
        "\n",
        "df = 24\n",
        "t score = 2.064\n",
        "\n",
        "t(0.05) = 1.711 t(0.10) = 1.318\n",
        "\n"
      ],
      "execution_count": null,
      "outputs": []
    },
    {
      "cell_type": "code",
      "metadata": {
        "id": "TgSs9r2u-C1-",
        "colab_type": "code",
        "colab": {
          "base_uri": "https://localhost:8080/",
          "height": 34
        },
        "outputId": "fdb15292-1137-4615-acb6-d645a3329797"
      },
      "source": [
        "1.711 - 1.318"
      ],
      "execution_count": null,
      "outputs": [
        {
          "output_type": "execute_result",
          "data": {
            "text/plain": [
              "0.393"
            ]
          },
          "metadata": {
            "tags": []
          },
          "execution_count": 14
        }
      ]
    },
    {
      "cell_type": "markdown",
      "metadata": {
        "id": "f5zCKZYz-D0Q",
        "colab_type": "text"
      },
      "source": [
        "# Problem11"
      ]
    },
    {
      "cell_type": "markdown",
      "metadata": {
        "id": "cuOdZN5d-F2z",
        "colab_type": "text"
      },
      "source": [
        "Hypothesized difference between population mean d = 0\n",
        "\n",
        "n1 = 1200, x1 = 452 , s1 = 212\n",
        "\n",
        "n2 = 800, x2 = 523, s2 = 185\n",
        "\n",
        "H0-> x1-x2 = 0\n",
        "\n",
        "H1-> x1-x2 != 0\n",
        "\n",
        "SE = sqrt[(s1^2/n1) + (s2^2/n2)]\n",
        "\n",
        "DF = (s1^2/n1 + s2^2/n2)^2 / { [ (s1^2 / n1)^2 / (n1 - 1) ] + [ (s2^2 / n2)^2 / (n2 - 1) ] }\n",
        "\n",
        "t = [ (x1 - x2) - d ] / SE"
      ]
    },
    {
      "cell_type": "code",
      "metadata": {
        "id": "BnMkzxS5OfNi",
        "colab_type": "code",
        "colab": {}
      },
      "source": [
        "n1 = 1200\n",
        "x1 = 452\n",
        "s1 = 212\n",
        "\n",
        "n2 = 800\n",
        "x2 = 523\n",
        "s2 = 185"
      ],
      "execution_count": null,
      "outputs": []
    },
    {
      "cell_type": "code",
      "metadata": {
        "id": "7I_zIPw2Ot0u",
        "colab_type": "code",
        "colab": {}
      },
      "source": [
        "import math\n",
        "import numpy as np"
      ],
      "execution_count": null,
      "outputs": []
    },
    {
      "cell_type": "code",
      "metadata": {
        "id": "Wk3sx9tmOkPr",
        "colab_type": "code",
        "colab": {}
      },
      "source": [
        "def bracket_inside(s1,n1,s2,n2):\n",
        "  first = (s1*s1)/n1\n",
        "  second = (s2*s2)/n2\n",
        "  return first,second,first+second\n",
        "\n",
        "def stdErr(s1,n1,s2,n2):\n",
        "  _,_,final = bracket_inside(s1,n1,s2,n2)\n",
        "  return math.sqrt(final)\n",
        "\n",
        "def dof(s1,n1,s2,n2):\n",
        "  _,_,numerator = bracket_inside(s1,n1,s2,n2)\n",
        "  numerator = np.power(numerator,2)\n",
        "  denom1,denom2,_ =bracket_inside(s1,n1,s2,n2)\n",
        "  denom1 = denom1/ (n1-1)\n",
        "  denom2 = denom2/ (n2-1)\n",
        "  denom = denom1+denom2\n",
        "  return numerator/denom\n",
        "\n"
      ],
      "execution_count": null,
      "outputs": []
    },
    {
      "cell_type": "code",
      "metadata": {
        "id": "dUnwTgNGRBkt",
        "colab_type": "code",
        "colab": {}
      },
      "source": [
        "SE = stdErr(s1,n1,s2,n2)\n",
        "df = dof(s1,n1,s2,n2)"
      ],
      "execution_count": null,
      "outputs": []
    },
    {
      "cell_type": "code",
      "metadata": {
        "id": "v1mYvvmFRiKA",
        "colab_type": "code",
        "colab": {}
      },
      "source": [
        "t = (x1-x2) / SE"
      ],
      "execution_count": null,
      "outputs": []
    },
    {
      "cell_type": "code",
      "metadata": {
        "id": "BXxo1HjPRvwZ",
        "colab_type": "code",
        "colab": {
          "base_uri": "https://localhost:8080/",
          "height": 34
        },
        "outputId": "621cabb4-e1f4-48a3-f54a-700461468e80"
      },
      "source": [
        "t"
      ],
      "execution_count": null,
      "outputs": [
        {
          "output_type": "execute_result",
          "data": {
            "text/plain": [
              "-7.926428526759299"
            ]
          },
          "metadata": {
            "tags": []
          },
          "execution_count": 36
        }
      ]
    },
    {
      "cell_type": "code",
      "metadata": {
        "id": "05cYvdIURwbB",
        "colab_type": "code",
        "colab": {
          "base_uri": "https://localhost:8080/",
          "height": 34
        },
        "outputId": "baba033c-5c11-45a1-8bf1-b3aa321e2126"
      },
      "source": [
        "df"
      ],
      "execution_count": null,
      "outputs": [
        {
          "output_type": "execute_result",
          "data": {
            "text/plain": [
              "75932.29803125162"
            ]
          },
          "metadata": {
            "tags": []
          },
          "execution_count": 37
        }
      ]
    },
    {
      "cell_type": "code",
      "metadata": {
        "id": "Iopvw4jiRyMf",
        "colab_type": "code",
        "colab": {
          "base_uri": "https://localhost:8080/",
          "height": 34
        },
        "outputId": "82c6ac45-a5e9-4898-f4b1-b3eb7fe06a13"
      },
      "source": [
        "from scipy import stats\n",
        "#Studnt, n=999, p<0.05, 2-tail\n",
        "#equivalent to Excel TINV(0.05,999)\n",
        "print(stats.t.ppf(0.05, df))"
      ],
      "execution_count": null,
      "outputs": [
        {
          "output_type": "stream",
          "text": [
            "-1.644873694668252\n"
          ],
          "name": "stdout"
        }
      ]
    },
    {
      "cell_type": "markdown",
      "metadata": {
        "id": "4BWGQR8bSorY",
        "colab_type": "text"
      },
      "source": [
        "t test < t critical \n",
        "Hence we reject null hypothesis"
      ]
    },
    {
      "cell_type": "markdown",
      "metadata": {
        "id": "NgUsTWq9SyQq",
        "colab_type": "text"
      },
      "source": [
        "# Problem 12"
      ]
    },
    {
      "cell_type": "code",
      "metadata": {
        "id": "KSz69PXhS1ea",
        "colab_type": "code",
        "colab": {}
      },
      "source": [
        "\n",
        "n1 = 100\n",
        "x1 = 308\n",
        "s1 = 84\n",
        "\n",
        "n2 = 100\n",
        "x2 = 254\n",
        "s2 = 67"
      ],
      "execution_count": null,
      "outputs": []
    },
    {
      "cell_type": "code",
      "metadata": {
        "colab_type": "code",
        "id": "kYMzttrcS87D",
        "colab": {}
      },
      "source": [
        "SE = stdErr(s1,n1,s2,n2)\n",
        "df = dof(s1,n1,s2,n2)"
      ],
      "execution_count": null,
      "outputs": []
    },
    {
      "cell_type": "code",
      "metadata": {
        "colab_type": "code",
        "id": "Z4Lnbt6bS87X",
        "colab": {}
      },
      "source": [
        "t = (x1-x2) / SE"
      ],
      "execution_count": null,
      "outputs": []
    },
    {
      "cell_type": "code",
      "metadata": {
        "colab_type": "code",
        "id": "9NbWoZkaS87m",
        "colab": {
          "base_uri": "https://localhost:8080/",
          "height": 34
        },
        "outputId": "51f860f6-8a1c-48de-b6e3-5b530d8dd094"
      },
      "source": [
        "t"
      ],
      "execution_count": null,
      "outputs": [
        {
          "output_type": "execute_result",
          "data": {
            "text/plain": [
              "5.025702668336442"
            ]
          },
          "metadata": {
            "tags": []
          },
          "execution_count": 43
        }
      ]
    },
    {
      "cell_type": "code",
      "metadata": {
        "colab_type": "code",
        "id": "LiZAj59aS87y",
        "colab": {
          "base_uri": "https://localhost:8080/",
          "height": 34
        },
        "outputId": "4310f933-c609-4bfa-d3be-68437dc5312e"
      },
      "source": [
        "df"
      ],
      "execution_count": null,
      "outputs": [
        {
          "output_type": "execute_result",
          "data": {
            "text/plain": [
              "11429.550000000001"
            ]
          },
          "metadata": {
            "tags": []
          },
          "execution_count": 44
        }
      ]
    },
    {
      "cell_type": "code",
      "metadata": {
        "colab_type": "code",
        "id": "ymnZoO63S879",
        "colab": {
          "base_uri": "https://localhost:8080/",
          "height": 34
        },
        "outputId": "0ca83872-c40f-4010-c886-8e33c17c63af"
      },
      "source": [
        "from scipy import stats\n",
        "#Studnt, n=999, p<0.05, 2-tail\n",
        "#equivalent to Excel TINV(0.05,999)\n",
        "print(stats.t.ppf(0.05, df))"
      ],
      "execution_count": null,
      "outputs": [
        {
          "output_type": "stream",
          "text": [
            "-1.6449869562087245\n"
          ],
          "name": "stdout"
        }
      ]
    },
    {
      "cell_type": "markdown",
      "metadata": {
        "id": "uCBBSYrzS_9C",
        "colab_type": "text"
      },
      "source": [
        "t test > t critical\n",
        "\n",
        "Hence we accept null hypothesis that means of the two batteries are same"
      ]
    },
    {
      "cell_type": "markdown",
      "metadata": {
        "id": "xRwbKYuMTH2P",
        "colab_type": "text"
      },
      "source": [
        "# Problem 13"
      ]
    },
    {
      "cell_type": "markdown",
      "metadata": {
        "id": "685cBgBFTJhQ",
        "colab_type": "text"
      },
      "source": [
        "# Problem 14"
      ]
    },
    {
      "cell_type": "code",
      "metadata": {
        "id": "9iSDBDnITaBU",
        "colab_type": "code",
        "colab": {}
      },
      "source": [
        "n1 = 15\n",
        "x1 = 6598 \n",
        "s1 = 844\n",
        "n2 = 12\n",
        "x2 = 6870\n",
        "s2 = 669"
      ],
      "execution_count": null,
      "outputs": []
    },
    {
      "cell_type": "code",
      "metadata": {
        "colab_type": "code",
        "id": "KC_GN4dOThtE",
        "colab": {}
      },
      "source": [
        "SE = stdErr(s1,n1,s2,n2)\n",
        "df = dof(s1,n1,s2,n2)"
      ],
      "execution_count": null,
      "outputs": []
    },
    {
      "cell_type": "code",
      "metadata": {
        "colab_type": "code",
        "id": "QzxETYbBThtS",
        "colab": {}
      },
      "source": [
        "t = (x1-x2) / SE"
      ],
      "execution_count": null,
      "outputs": []
    },
    {
      "cell_type": "code",
      "metadata": {
        "colab_type": "code",
        "id": "oL6pxrwAThtf",
        "colab": {
          "base_uri": "https://localhost:8080/",
          "height": 34
        },
        "outputId": "ed57ef3a-86b2-4c88-f813-feff68274d35"
      },
      "source": [
        "t"
      ],
      "execution_count": null,
      "outputs": [
        {
          "output_type": "execute_result",
          "data": {
            "text/plain": [
              "-0.9341299576730813"
            ]
          },
          "metadata": {
            "tags": []
          },
          "execution_count": 49
        }
      ]
    },
    {
      "cell_type": "code",
      "metadata": {
        "colab_type": "code",
        "id": "YHyxnXoDThtu",
        "colab": {
          "base_uri": "https://localhost:8080/",
          "height": 34
        },
        "outputId": "05b3193e-4cea-4b8e-91d8-443301b7cb1f"
      },
      "source": [
        "df"
      ],
      "execution_count": null,
      "outputs": [
        {
          "output_type": "execute_result",
          "data": {
            "text/plain": [
              "1059850.1319325287"
            ]
          },
          "metadata": {
            "tags": []
          },
          "execution_count": 50
        }
      ]
    },
    {
      "cell_type": "code",
      "metadata": {
        "colab_type": "code",
        "id": "u0f7Gzt5ThuA",
        "colab": {
          "base_uri": "https://localhost:8080/",
          "height": 34
        },
        "outputId": "55e66fa3-eb13-445c-f731-e5fe18ae57ae"
      },
      "source": [
        "from scipy import stats\n",
        "#Studnt, n=999, p<0.05, 2-tail\n",
        "#equivalent to Excel TINV(0.05,999)\n",
        "print(stats.t.ppf(0.05, df))"
      ],
      "execution_count": null,
      "outputs": [
        {
          "output_type": "stream",
          "text": [
            "-1.6448550646740732\n"
          ],
          "name": "stdout"
        }
      ]
    },
    {
      "cell_type": "markdown",
      "metadata": {
        "id": "uh_kLg3fTk2t",
        "colab_type": "text"
      },
      "source": [
        "t test < t critical \n",
        "Hence we reject null hypothesis both means are not same"
      ]
    },
    {
      "cell_type": "markdown",
      "metadata": {
        "id": "8FqcWUKhTrKd",
        "colab_type": "text"
      },
      "source": [
        "# Problem 15"
      ]
    },
    {
      "cell_type": "code",
      "metadata": {
        "id": "p3fh-MamTuN_",
        "colab_type": "code",
        "colab": {}
      },
      "source": [
        "n1 = 1000\n",
        "x1 = 53\n",
        "p1 = 0.53\n",
        "\n",
        "n2 = 100\n",
        "x2 = 43\n",
        "p2= 0.53"
      ],
      "execution_count": null,
      "outputs": []
    },
    {
      "cell_type": "code",
      "metadata": {
        "id": "RLwHNmVyWwTT",
        "colab_type": "code",
        "colab": {}
      },
      "source": [
        ""
      ],
      "execution_count": null,
      "outputs": []
    },
    {
      "cell_type": "code",
      "metadata": {
        "id": "-j51qsJ8Wb2b",
        "colab_type": "code",
        "colab": {}
      },
      "source": [
        "def p_calculate(n1,p1,n2,p2):\n",
        "  numerator = n1*p1 + n2*p2\n",
        "  denom = n1+n2\n",
        "  return numerator/denom\n",
        "\n",
        "def calc_z(p1,p2,n1,n2):\n",
        "  p = p_calculate(n1,p1,n2,p2)\n",
        "  numerator = p1-p2\n",
        "  denom1 = (p * (1-p))/n1 \n",
        "  denom2 = (p * (1-p))/n2\n",
        "  denom = denom1 + denom2\n",
        "  denom = math.sqrt(denom)\n",
        "  return numerator/denom"
      ],
      "execution_count": null,
      "outputs": []
    },
    {
      "cell_type": "code",
      "metadata": {
        "id": "MEeBqTFCXgt1",
        "colab_type": "code",
        "colab": {
          "base_uri": "https://localhost:8080/",
          "height": 34
        },
        "outputId": "d532b437-e526-4d3a-9f90-0f69aeac12ce"
      },
      "source": [
        "z_stats = calc_z(p1,p2,n1,n2)\n",
        "print(z_stats)"
      ],
      "execution_count": null,
      "outputs": [
        {
          "output_type": "stream",
          "text": [
            "0.0\n"
          ],
          "name": "stdout"
        }
      ]
    },
    {
      "cell_type": "markdown",
      "metadata": {
        "id": "y9g9NzzTXnEV",
        "colab_type": "text"
      },
      "source": [
        "z(critical 0.05) = 0.51994\n",
        "\n",
        "Z test < Z critical\n",
        "\n",
        "Hence we reject null hypothesis\n",
        "Mean not equal\n",
        "\n",
        "Correction p1 and p2 should be x/n . Hence p2 is given wrong I guess"
      ]
    },
    {
      "cell_type": "markdown",
      "metadata": {
        "id": "VIgqsVLvX4B2",
        "colab_type": "text"
      },
      "source": [
        "# Problem 16"
      ]
    },
    {
      "cell_type": "code",
      "metadata": {
        "id": "5KNe0rIXX7OH",
        "colab_type": "code",
        "colab": {}
      },
      "source": [
        "n1 = 300\n",
        "x1 = 120\n",
        "p1 = 0.40\n",
        "n2 = 700\n",
        "x2 = 140\n",
        "p2= 0.20"
      ],
      "execution_count": null,
      "outputs": []
    },
    {
      "cell_type": "code",
      "metadata": {
        "id": "hGvvkA93ZjI4",
        "colab_type": "code",
        "colab": {
          "base_uri": "https://localhost:8080/",
          "height": 34
        },
        "outputId": "7447e6c5-e645-43f2-f9cd-570b29d90ee2"
      },
      "source": [
        "z_stats = calc_z(p1,p2,n1,n2)\n",
        "print(z_stats)"
      ],
      "execution_count": null,
      "outputs": [
        {
          "output_type": "stream",
          "text": [
            "6.607499047222305\n"
          ],
          "name": "stdout"
        }
      ]
    },
    {
      "cell_type": "markdown",
      "metadata": {
        "id": "LAKvPZYLZku-",
        "colab_type": "text"
      },
      "source": [
        "z test > z critical \n",
        "\n",
        "Hence we accept null hypothesis"
      ]
    },
    {
      "cell_type": "markdown",
      "metadata": {
        "id": "SuQ853wVcZIt",
        "colab_type": "text"
      },
      "source": [
        "# Problem 17"
      ]
    },
    {
      "cell_type": "markdown",
      "metadata": {
        "id": "O9RwVjxUcai3",
        "colab_type": "text"
      },
      "source": [
        "H0 -> die is unbiased\n",
        "\n",
        "H1 -> die is not unbiased\n",
        "\n",
        "for an unbiased die each face should occur 132/6  = 22 times\n",
        "\n",
        "Expected value is 22 and observed value is given in frequency"
      ]
    },
    {
      "cell_type": "code",
      "metadata": {
        "id": "77PD5jZsdCuT",
        "colab_type": "code",
        "colab": {}
      },
      "source": [
        "Observed = [16, 20, 25, 14, 29, 28]\n",
        "Expected = [22, 22, 22, 22, 22, 22]"
      ],
      "execution_count": null,
      "outputs": []
    },
    {
      "cell_type": "code",
      "metadata": {
        "id": "Whu0CCrEdQhh",
        "colab_type": "code",
        "colab": {}
      },
      "source": [
        "obs_minus_exp_div_exp = [np.power((a-b),2)/b for a,b in zip(Observed,Expected)]"
      ],
      "execution_count": null,
      "outputs": []
    },
    {
      "cell_type": "code",
      "metadata": {
        "id": "HL0G1ckFdYpV",
        "colab_type": "code",
        "colab": {
          "base_uri": "https://localhost:8080/",
          "height": 118
        },
        "outputId": "f8d3e9e8-9b68-4fc6-9acf-f6e93bbfc568"
      },
      "source": [
        "obs_minus_exp_div_exp"
      ],
      "execution_count": null,
      "outputs": [
        {
          "output_type": "execute_result",
          "data": {
            "text/plain": [
              "[1.6363636363636365,\n",
              " 0.18181818181818182,\n",
              " 0.4090909090909091,\n",
              " 2.909090909090909,\n",
              " 2.227272727272727,\n",
              " 1.6363636363636365]"
            ]
          },
          "metadata": {
            "tags": []
          },
          "execution_count": 67
        }
      ]
    },
    {
      "cell_type": "code",
      "metadata": {
        "id": "fmh6yGjMdnU3",
        "colab_type": "code",
        "colab": {
          "base_uri": "https://localhost:8080/",
          "height": 34
        },
        "outputId": "74fe98d0-c7ab-4f6c-907b-c42806391b20"
      },
      "source": [
        "np.sum(obs_minus_exp_div_exp)"
      ],
      "execution_count": null,
      "outputs": [
        {
          "output_type": "execute_result",
          "data": {
            "text/plain": [
              "9.0"
            ]
          },
          "metadata": {
            "tags": []
          },
          "execution_count": 68
        }
      ]
    },
    {
      "cell_type": "markdown",
      "metadata": {
        "id": "GnkErFYFdsyv",
        "colab_type": "text"
      },
      "source": [
        "dof = 5\n",
        "sig = 0.05\n",
        "chi value = 11.070"
      ]
    },
    {
      "cell_type": "markdown",
      "metadata": {
        "id": "RZIsi7bKd-LZ",
        "colab_type": "text"
      },
      "source": [
        "chi test < chi critical \n",
        "\n",
        "Hence we reject null hypothesis\n",
        "\n",
        "Die is not unbiased"
      ]
    },
    {
      "cell_type": "markdown",
      "metadata": {
        "id": "gPPjAsbgeGqJ",
        "colab_type": "text"
      },
      "source": [
        "# Problem 18"
      ]
    },
    {
      "cell_type": "markdown",
      "metadata": {
        "id": "WO5wk9WceIj-",
        "colab_type": "text"
      },
      "source": [
        "H0 -> gender is indept of voting\n",
        "\n",
        "H1 -> gender is not indept of voting\n",
        "\n",
        "We need to create expected table to apply chi square"
      ]
    },
    {
      "cell_type": "code",
      "metadata": {
        "id": "FpRMHzztg5V6",
        "colab_type": "code",
        "colab": {}
      },
      "source": [
        "observed_men_voted = 2792\n",
        "observed_mean_not_voted = 1486\n",
        "\n",
        "observed_female_voted = 3591\n",
        "observed_female_not_voted = 2131\n"
      ],
      "execution_count": null,
      "outputs": []
    },
    {
      "cell_type": "code",
      "metadata": {
        "id": "DCb2jCMPhP0W",
        "colab_type": "code",
        "colab": {
          "base_uri": "https://localhost:8080/",
          "height": 34
        },
        "outputId": "e922cd12-ab87-467e-caa9-a39f1429b64d"
      },
      "source": [
        "Expected_men_voted = int(((2792+1486) * (2792+3591)) / 10000)\n",
        "Expected_mean_not_voted = int(((2792+1486) * (1486+2131)) / 10000)\n",
        "\n",
        "Expected_female_voted = int(((3591+2131) * (2792+3591)) / 10000)\n",
        "Expected_female_not_voted = int(((3591+2131) * (1486+2131)) / 10000)\n",
        "\n",
        "print(Expected_men_voted,Expected_mean_not_voted,Expected_female_voted,Expected_female_not_voted)"
      ],
      "execution_count": null,
      "outputs": [
        {
          "output_type": "stream",
          "text": [
            "2730 1547 3652 2069\n"
          ],
          "name": "stdout"
        }
      ]
    },
    {
      "cell_type": "code",
      "metadata": {
        "id": "rJ5iD48eiAcM",
        "colab_type": "code",
        "colab": {}
      },
      "source": [
        "observed = [2792,1486,3591,2131]\n",
        "expected = [2730,1547,3652,2069]"
      ],
      "execution_count": null,
      "outputs": []
    },
    {
      "cell_type": "code",
      "metadata": {
        "id": "un1Jxwxdim7J",
        "colab_type": "code",
        "colab": {}
      },
      "source": [
        "obs_minus_exp_div_exp = [np.power((a-b),2)/b for a,b in zip(observed,expected)]"
      ],
      "execution_count": null,
      "outputs": []
    },
    {
      "cell_type": "code",
      "metadata": {
        "id": "uHkWzc0kis8f",
        "colab_type": "code",
        "colab": {
          "base_uri": "https://localhost:8080/",
          "height": 34
        },
        "outputId": "8110837d-db19-4fb8-8e2a-3b72f44304b9"
      },
      "source": [
        "obs_minus_exp_div_exp"
      ],
      "execution_count": null,
      "outputs": [
        {
          "output_type": "execute_result",
          "data": {
            "text/plain": [
              "[1.4080586080586082, 2.40530058177117, 1.018893756845564, 1.8579023682938618]"
            ]
          },
          "metadata": {
            "tags": []
          },
          "execution_count": 74
        }
      ]
    },
    {
      "cell_type": "code",
      "metadata": {
        "id": "0jradRJBiuec",
        "colab_type": "code",
        "colab": {
          "base_uri": "https://localhost:8080/",
          "height": 34
        },
        "outputId": "b057cebf-a5cc-4580-a92d-7820d517fdf8"
      },
      "source": [
        "np.sum(obs_minus_exp_div_exp)"
      ],
      "execution_count": null,
      "outputs": [
        {
          "output_type": "execute_result",
          "data": {
            "text/plain": [
              "6.6901553149692035"
            ]
          },
          "metadata": {
            "tags": []
          },
          "execution_count": 75
        }
      ]
    },
    {
      "cell_type": "markdown",
      "metadata": {
        "id": "M6NpoDxYixku",
        "colab_type": "text"
      },
      "source": [
        "for dof 1 and 2 with sig 0.05, 3.841 and 5.991\n",
        "\n",
        "chi test > chi critical\n",
        "\n",
        "Hence accept null hypothesis\n",
        "\n",
        "Voters are independant"
      ]
    },
    {
      "cell_type": "markdown",
      "metadata": {
        "id": "4IJ8XBw_jSg5",
        "colab_type": "text"
      },
      "source": [
        "# Problem 19"
      ]
    },
    {
      "cell_type": "code",
      "metadata": {
        "id": "3Bc1kfx9jxw6",
        "colab_type": "code",
        "colab": {}
      },
      "source": [
        "observed = [41,19,24,16]\n",
        "expected = [25,25,25,25]"
      ],
      "execution_count": null,
      "outputs": []
    },
    {
      "cell_type": "code",
      "metadata": {
        "colab_type": "code",
        "id": "VZC3-wMYj7wo",
        "colab": {}
      },
      "source": [
        "obs_minus_exp_div_exp = [np.power((a-b),2)/b for a,b in zip(observed,expected)]"
      ],
      "execution_count": null,
      "outputs": []
    },
    {
      "cell_type": "code",
      "metadata": {
        "colab_type": "code",
        "id": "njsHeIVbj7w1",
        "colab": {
          "base_uri": "https://localhost:8080/",
          "height": 34
        },
        "outputId": "35893a25-b817-42d7-cbf5-38c7e0b08034"
      },
      "source": [
        "obs_minus_exp_div_exp"
      ],
      "execution_count": null,
      "outputs": [
        {
          "output_type": "execute_result",
          "data": {
            "text/plain": [
              "[10.24, 1.44, 0.04, 3.24]"
            ]
          },
          "metadata": {
            "tags": []
          },
          "execution_count": 78
        }
      ]
    },
    {
      "cell_type": "code",
      "metadata": {
        "colab_type": "code",
        "id": "Xwslwj7Hj7xG",
        "colab": {
          "base_uri": "https://localhost:8080/",
          "height": 34
        },
        "outputId": "df104ac3-b147-4ed9-c603-2e17fbfa9078"
      },
      "source": [
        "np.sum(obs_minus_exp_div_exp)"
      ],
      "execution_count": null,
      "outputs": [
        {
          "output_type": "execute_result",
          "data": {
            "text/plain": [
              "14.959999999999999"
            ]
          },
          "metadata": {
            "tags": []
          },
          "execution_count": 79
        }
      ]
    },
    {
      "cell_type": "markdown",
      "metadata": {
        "id": "H67Uqb9Dj9vM",
        "colab_type": "text"
      },
      "source": [
        "chi test 14.96\n",
        "\n",
        "chi critical for dof = 3 and p<0.05\n",
        "\n",
        "chi critical for p< 0.05 are 7.815\t9.348\t11.345\t12.838"
      ]
    },
    {
      "cell_type": "code",
      "metadata": {
        "id": "_QZcDHx0kY_c",
        "colab_type": "code",
        "colab": {
          "base_uri": "https://localhost:8080/",
          "height": 34
        },
        "outputId": "7a2b034a-104c-4123-d3e0-e6b7dc8ce581"
      },
      "source": [
        "np.mean([7.815,9.348,11.345,12.838])"
      ],
      "execution_count": null,
      "outputs": [
        {
          "output_type": "execute_result",
          "data": {
            "text/plain": [
              "10.336500000000001"
            ]
          },
          "metadata": {
            "tags": []
          },
          "execution_count": 80
        }
      ]
    },
    {
      "cell_type": "markdown",
      "metadata": {
        "id": "5KUISleZkcst",
        "colab_type": "text"
      },
      "source": [
        "chi test > chi critical\n",
        "\n",
        "Hence we accept null hypothesis\n",
        "\n",
        "suggest that voters do not prefer the four candidates equally. "
      ]
    },
    {
      "cell_type": "markdown",
      "metadata": {
        "id": "VmOjve2vkhwo",
        "colab_type": "text"
      },
      "source": [
        "# Problem 20"
      ]
    },
    {
      "cell_type": "code",
      "metadata": {
        "id": "d_Xg-_xg86eI",
        "colab_type": "code",
        "colab": {}
      },
      "source": [
        "import numpy as np"
      ],
      "execution_count": null,
      "outputs": []
    },
    {
      "cell_type": "code",
      "metadata": {
        "id": "DKbzKvhH7nY_",
        "colab_type": "code",
        "colab": {}
      },
      "source": [
        "observed = np.array([[18,22,20],\n",
        "                    [2,28,40],\n",
        "                    [20,10,40]])"
      ],
      "execution_count": null,
      "outputs": []
    },
    {
      "cell_type": "code",
      "metadata": {
        "id": "FEdHw3bb9LZp",
        "colab_type": "code",
        "colab": {}
      },
      "source": [
        "column_total = np.sum(observed,axis=0)\n",
        "row_total = np.sum(observed,axis=1)"
      ],
      "execution_count": null,
      "outputs": []
    },
    {
      "cell_type": "code",
      "metadata": {
        "id": "T-VBPVh_7vWJ",
        "colab_type": "code",
        "colab": {}
      },
      "source": [
        "grand_total = np.sum(observed)"
      ],
      "execution_count": null,
      "outputs": []
    },
    {
      "cell_type": "code",
      "metadata": {
        "id": "sTuCjUxR9gzA",
        "colab_type": "code",
        "colab": {}
      },
      "source": [
        "# row_total * column_total / grand_total"
      ],
      "execution_count": null,
      "outputs": []
    },
    {
      "cell_type": "code",
      "metadata": {
        "id": "2XMO_6e39mUl",
        "colab_type": "code",
        "colab": {}
      },
      "source": [
        "observed = [18,22,20,2,28,40,20,10,40]\n",
        "expected = [12,18,30,14,21,35,14,21,35]"
      ],
      "execution_count": null,
      "outputs": []
    },
    {
      "cell_type": "code",
      "metadata": {
        "colab_type": "code",
        "id": "IqXDEyL_-KMT",
        "colab": {}
      },
      "source": [
        "obs_minus_exp_div_exp = [np.power((a-b),2)/b for a,b in zip(observed,expected)]"
      ],
      "execution_count": null,
      "outputs": []
    },
    {
      "cell_type": "code",
      "metadata": {
        "colab_type": "code",
        "id": "40LAVGkH-KMX",
        "colab": {
          "base_uri": "https://localhost:8080/",
          "height": 168
        },
        "outputId": "04aaf686-4882-4366-f7c6-d8f260170559"
      },
      "source": [
        "obs_minus_exp_div_exp"
      ],
      "execution_count": null,
      "outputs": [
        {
          "output_type": "execute_result",
          "data": {
            "text/plain": [
              "[3.0,\n",
              " 0.8888888888888888,\n",
              " 3.3333333333333335,\n",
              " 10.285714285714286,\n",
              " 2.3333333333333335,\n",
              " 0.7142857142857143,\n",
              " 2.5714285714285716,\n",
              " 5.761904761904762,\n",
              " 0.7142857142857143]"
            ]
          },
          "metadata": {
            "tags": []
          },
          "execution_count": 14
        }
      ]
    },
    {
      "cell_type": "code",
      "metadata": {
        "colab_type": "code",
        "id": "d-GnrbvE-KMZ",
        "colab": {
          "base_uri": "https://localhost:8080/",
          "height": 34
        },
        "outputId": "2e770128-932d-4d47-c5c0-973e4ff06661"
      },
      "source": [
        "np.sum(obs_minus_exp_div_exp)"
      ],
      "execution_count": null,
      "outputs": [
        {
          "output_type": "execute_result",
          "data": {
            "text/plain": [
              "29.603174603174608"
            ]
          },
          "metadata": {
            "tags": []
          },
          "execution_count": 15
        }
      ]
    },
    {
      "cell_type": "markdown",
      "metadata": {
        "id": "kw8kvAaG-LmE",
        "colab_type": "text"
      },
      "source": [
        "chi critical = 9.488\n",
        "chi test > chi critical\n",
        "Hence we accept null hypothesis"
      ]
    },
    {
      "cell_type": "markdown",
      "metadata": {
        "id": "Ty1z4OVI-nA4",
        "colab_type": "text"
      },
      "source": [
        "# Problem 21"
      ]
    },
    {
      "cell_type": "markdown",
      "metadata": {
        "id": "Do6wZLar-o27",
        "colab_type": "text"
      },
      "source": [
        "Chi-Square = 19.87\n",
        "\n",
        "df = 1\n",
        "p < 0.05\n",
        "\n",
        "5.024\t6.635\t7.879\n",
        "\n",
        "chi critical 6.512666666666665  < Chi test\n",
        "\n",
        "Hence accept null hypothesis"
      ]
    },
    {
      "cell_type": "markdown",
      "metadata": {
        "id": "U5TIPStB-9kv",
        "colab_type": "text"
      },
      "source": [
        "# Problem 22"
      ]
    },
    {
      "cell_type": "markdown",
      "metadata": {
        "id": "DOpxpybu_SkS",
        "colab_type": "text"
      },
      "source": [
        "Chi-Square = 10.71\n",
        "\n",
        "with 2 df\n",
        "\n",
        "p < 0.01\n",
        "\n",
        "chi critical = 9.210\t\n",
        "\n",
        "chi test >  chi critical \n",
        "\n",
        "accept null hypothesis"
      ]
    },
    {
      "cell_type": "markdown",
      "metadata": {
        "id": "n8QSjUuG_iAp",
        "colab_type": "text"
      },
      "source": [
        "# Problem 23"
      ]
    },
    {
      "cell_type": "code",
      "metadata": {
        "id": "y4BrxUfG_jLm",
        "colab_type": "code",
        "colab": {}
      },
      "source": [
        "observed = [679, 103, 114, 63, 10, 20, 42, 18,25]"
      ],
      "execution_count": null,
      "outputs": []
    },
    {
      "cell_type": "code",
      "metadata": {
        "id": "GssE8JTt_4VH",
        "colab_type": "code",
        "colab": {}
      },
      "source": [
        "expected = [654, 109, 133, 68, 11, 14, 62, 10, 13]"
      ],
      "execution_count": null,
      "outputs": []
    },
    {
      "cell_type": "code",
      "metadata": {
        "id": "SHyEjYPXAy51",
        "colab_type": "code",
        "colab": {}
      },
      "source": [
        ""
      ],
      "execution_count": null,
      "outputs": []
    },
    {
      "cell_type": "code",
      "metadata": {
        "colab_type": "code",
        "id": "qkOrG1JRA1ns",
        "colab": {}
      },
      "source": [
        "obs_minus_exp_div_exp = [np.power((a-b),2)/b for a,b in zip(observed,expected)]"
      ],
      "execution_count": null,
      "outputs": []
    },
    {
      "cell_type": "code",
      "metadata": {
        "colab_type": "code",
        "id": "QDY9Z0vxA1n2",
        "colab": {
          "base_uri": "https://localhost:8080/",
          "height": 168
        },
        "outputId": "c472bf70-7f56-41bb-d3c4-5152f1c0d85e"
      },
      "source": [
        "obs_minus_exp_div_exp"
      ],
      "execution_count": null,
      "outputs": [
        {
          "output_type": "execute_result",
          "data": {
            "text/plain": [
              "[0.9556574923547401,\n",
              " 0.3302752293577982,\n",
              " 2.7142857142857144,\n",
              " 0.36764705882352944,\n",
              " 0.09090909090909091,\n",
              " 2.5714285714285716,\n",
              " 6.451612903225806,\n",
              " 6.4,\n",
              " 11.076923076923077]"
            ]
          },
          "metadata": {
            "tags": []
          },
          "execution_count": 21
        }
      ]
    },
    {
      "cell_type": "code",
      "metadata": {
        "colab_type": "code",
        "id": "27rgYzGkA1n-",
        "colab": {
          "base_uri": "https://localhost:8080/",
          "height": 34
        },
        "outputId": "0f007f00-b1da-4f65-9494-4b68fe3395f4"
      },
      "source": [
        "np.sum(obs_minus_exp_div_exp)"
      ],
      "execution_count": null,
      "outputs": [
        {
          "output_type": "execute_result",
          "data": {
            "text/plain": [
              "30.958739137308328"
            ]
          },
          "metadata": {
            "tags": []
          },
          "execution_count": 22
        }
      ]
    },
    {
      "cell_type": "code",
      "metadata": {
        "id": "C7YzfKv1A2WF",
        "colab_type": "code",
        "colab": {}
      },
      "source": [
        "dof = (3-1) * (3-1)"
      ],
      "execution_count": null,
      "outputs": []
    },
    {
      "cell_type": "code",
      "metadata": {
        "id": "2-nO79qcA9J0",
        "colab_type": "code",
        "colab": {
          "base_uri": "https://localhost:8080/",
          "height": 34
        },
        "outputId": "f0068890-12da-4b10-d37c-387a17b14d49"
      },
      "source": [
        "dof"
      ],
      "execution_count": null,
      "outputs": [
        {
          "output_type": "execute_result",
          "data": {
            "text/plain": [
              "4"
            ]
          },
          "metadata": {
            "tags": []
          },
          "execution_count": 24
        }
      ]
    },
    {
      "cell_type": "markdown",
      "metadata": {
        "id": "ARGvQtheA9qv",
        "colab_type": "text"
      },
      "source": [
        "assume sig = 0.05\n",
        "\n",
        "chi test > chi critical 9.488\n",
        "\n",
        "Hence we accept null hypothesis"
      ]
    },
    {
      "cell_type": "code",
      "metadata": {
        "id": "koaE4BgkBEZH",
        "colab_type": "code",
        "colab": {}
      },
      "source": [
        ""
      ],
      "execution_count": null,
      "outputs": []
    }
  ]
}