{
  "nbformat": 4,
  "nbformat_minor": 0,
  "metadata": {
    "colab": {
      "name": "Stats3_assignment3.ipynb",
      "provenance": [],
      "collapsed_sections": []
    },
    "kernelspec": {
      "name": "python3",
      "display_name": "Python 3"
    }
  },
  "cells": [
    {
      "cell_type": "markdown",
      "metadata": {
        "id": "YhbFTwvPs22K",
        "colab_type": "text"
      },
      "source": [
        "# Problem 1"
      ]
    },
    {
      "cell_type": "markdown",
      "metadata": {
        "id": "OF1XizTCtVDA",
        "colab_type": "text"
      },
      "source": [
        "pmean = 100\n",
        "\n",
        "pstd = 15\n",
        "\n",
        "n = 36\n",
        "\n",
        "sample_mean = 108\n",
        "\n",
        "H0-> Corn starch had an effect mean = 100\n",
        "\n",
        "H1-> corn starch do not have an effect mean!=100"
      ]
    },
    {
      "cell_type": "code",
      "metadata": {
        "id": "AmT3w3aRtkMq",
        "colab_type": "code",
        "colab": {}
      },
      "source": [
        "import math"
      ],
      "execution_count": null,
      "outputs": []
    },
    {
      "cell_type": "code",
      "metadata": {
        "id": "Aev1dd3xtr-O",
        "colab_type": "code",
        "colab": {
          "base_uri": "https://localhost:8080/",
          "height": 34
        },
        "outputId": "6dc23f81-b9ff-4b1f-bf94-81748c2dc091"
      },
      "source": [
        "z_score = (108 - 100) / (15/6)\n",
        "z_score"
      ],
      "execution_count": null,
      "outputs": [
        {
          "output_type": "execute_result",
          "data": {
            "text/plain": [
              "3.2"
            ]
          },
          "metadata": {
            "tags": []
          },
          "execution_count": 4
        }
      ]
    },
    {
      "cell_type": "markdown",
      "metadata": {
        "id": "hXnfcZZGtzkk",
        "colab_type": "text"
      },
      "source": [
        "with 0.01 significance since it is related to health\n",
        "\n",
        "z score for 3.2 = 0.99931 =. 0.007 < 0.01\n",
        "\n",
        "z critical > z score \n",
        "\n",
        "Hence we reject Null hypothesis"
      ]
    },
    {
      "cell_type": "markdown",
      "metadata": {
        "id": "wRHOP7_Nu_nH",
        "colab_type": "text"
      },
      "source": [
        "# Problem 2"
      ]
    },
    {
      "cell_type": "markdown",
      "metadata": {
        "id": "E9PCLANpvG72",
        "colab_type": "text"
      },
      "source": [
        "Expectation (mean) = 0.52 - 0.47 => 0.05\n",
        "\n",
        "sd = 0.07061869440877536"
      ]
    },
    {
      "cell_type": "code",
      "metadata": {
        "id": "gBjEgevRxB64",
        "colab_type": "code",
        "colab": {}
      },
      "source": [
        "P1 = 0.52\n",
        "P2 = 0.47\n",
        "n1 = 100\n",
        "n2 = 100"
      ],
      "execution_count": null,
      "outputs": []
    },
    {
      "cell_type": "code",
      "metadata": {
        "id": "b5zuH3_Iw8z4",
        "colab_type": "code",
        "colab": {}
      },
      "source": [
        "sd = math.sqrt(((P1*(1 - P1)) / n1 ) + ((P2*(1 - P2)) / n2))"
      ],
      "execution_count": null,
      "outputs": []
    },
    {
      "cell_type": "code",
      "metadata": {
        "id": "-SHEDkHfxQwC",
        "colab_type": "code",
        "colab": {
          "base_uri": "https://localhost:8080/",
          "height": 34
        },
        "outputId": "45bea263-fece-45fb-e3f1-65e4dce543aa"
      },
      "source": [
        "sd"
      ],
      "execution_count": null,
      "outputs": [
        {
          "output_type": "execute_result",
          "data": {
            "text/plain": [
              "0.07061869440877536"
            ]
          },
          "metadata": {
            "tags": []
          },
          "execution_count": 8
        }
      ]
    },
    {
      "cell_type": "markdown",
      "metadata": {
        "id": "2doWWqL2xV4b",
        "colab_type": "text"
      },
      "source": [
        "z score = (0-0.05)/ 0.0706 => -0.7082\n",
        "\n",
        "0.21770"
      ]
    },
    {
      "cell_type": "markdown",
      "metadata": {
        "id": "jeGtW9Gtxsti",
        "colab_type": "text"
      },
      "source": [
        "# Problem 3"
      ]
    },
    {
      "cell_type": "markdown",
      "metadata": {
        "id": "oCNtVaVSxuEI",
        "colab_type": "text"
      },
      "source": [
        "x = 1100\n",
        "\n",
        "mean = 1026\n",
        "\n",
        "sd = 209"
      ]
    },
    {
      "cell_type": "code",
      "metadata": {
        "id": "ARde7VdGyPAv",
        "colab_type": "code",
        "colab": {
          "base_uri": "https://localhost:8080/",
          "height": 34
        },
        "outputId": "d45f4359-aefe-4b7f-8626-2fae0a042040"
      },
      "source": [
        "(1100 - 1026)/209"
      ],
      "execution_count": null,
      "outputs": [
        {
          "output_type": "execute_result",
          "data": {
            "text/plain": [
              "0.35406698564593303"
            ]
          },
          "metadata": {
            "tags": []
          },
          "execution_count": 9
        }
      ]
    },
    {
      "cell_type": "markdown",
      "metadata": {
        "id": "kS_oASnCyRpO",
        "colab_type": "text"
      },
      "source": [
        "0.63683\n",
        "\n",
        "Percentile is 63.683%\n"
      ]
    },
    {
      "cell_type": "code",
      "metadata": {
        "id": "R6Tag1yWydAu",
        "colab_type": "code",
        "colab": {}
      },
      "source": [
        ""
      ],
      "execution_count": null,
      "outputs": []
    }
  ]
}