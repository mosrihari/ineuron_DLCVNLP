{
 "cells": [
  {
   "cell_type": "code",
   "execution_count": null,
   "metadata": {},
   "outputs": [],
   "source": [
    "from bs4 import BeautifulSoup\n",
    "import urllib.request\n",
    "import json\n",
    "from bs4 import BeautifulSoup\n",
    "import re\n",
    "import json\n",
    "import pymongo\n",
    "from urllib.request import urlopen\n",
    "from urllib.request import Request\n",
    "from bing_image_downloader import downloader\n",
    "from flask import Flask, render_template, request, jsonify\n",
    "import glob\n",
    "\n",
    "app = Flask(__name__)\n",
    "#Claim: With reference to the below link, it is not possible to extract google images completely as it \n",
    "#is restricted in the recent times we can only get tile images from google and we cannot get full images\n",
    "#https://stackoverflow.com/questions/36438261/extracting-images-from-google-images-using-src-and-beautifulsoup\n",
    "\n",
    "# Hence I am using Bing images to perform the same operation\n",
    "\n",
    "def mongodbConnection():\n",
    "    conn = pymongo.MongoClient(\"mongodb://localhost:27017\")\n",
    "    mydb = conn[\"Reviews\"]\n",
    "    mycol = mydb[\"FlipkartReview\"]\n",
    "    return mycol  \n",
    "\n",
    "@app.route(\"/\",method = ['POST','GET'])\n",
    "@cross_origin\n",
    "def home():\n",
    "    return render_template(\"index.html\")\n",
    "\n",
    "\n",
    "@app.route(\"api/searchImages\",method = ['POST','GET'])\n",
    "@cross_origin\n",
    "def search_images():\n",
    "    if request.method == 'POST':\n",
    "        try:\n",
    "            searchString = request.form['content'].replace(\" \", \"\")\n",
    "            downloader.download(searchString,limit=10,output_dir=\"ImageDir\")\n",
    "        except:\n",
    "            print(\"Couldnt fetch data from Bing\")\n",
    "    else:\n",
    "        return render_template(\"index.html\")\n",
    "    \n",
    "    return show_images()\n",
    "\n",
    "@app.route(\"/api/showImages\",method = ['POST','GET'])\n",
    "@cross_origin\n",
    "def show_images():"
   ]
  },
  {
   "cell_type": "code",
   "execution_count": 9,
   "metadata": {},
   "outputs": [],
   "source": [
    "import glob\n",
    "file_list = glob.glob(\"ImageDir/tree/*\")"
   ]
  },
  {
   "cell_type": "code",
   "execution_count": 10,
   "metadata": {},
   "outputs": [
    {
     "data": {
      "text/plain": [
       "['ImageDir/tree\\\\Image_1.jpg',\n",
       " 'ImageDir/tree\\\\Image_10.jpg',\n",
       " 'ImageDir/tree\\\\Image_2.JPG',\n",
       " 'ImageDir/tree\\\\Image_3.jpg',\n",
       " 'ImageDir/tree\\\\Image_4.JPG',\n",
       " 'ImageDir/tree\\\\Image_5.JPG',\n",
       " 'ImageDir/tree\\\\Image_6.JPG',\n",
       " 'ImageDir/tree\\\\Image_7.jpg',\n",
       " 'ImageDir/tree\\\\Image_8.jpg',\n",
       " 'ImageDir/tree\\\\Image_9.jpg']"
      ]
     },
     "execution_count": 10,
     "metadata": {},
     "output_type": "execute_result"
    }
   ],
   "source": [
    "file_list"
   ]
  },
  {
   "cell_type": "code",
   "execution_count": 11,
   "metadata": {},
   "outputs": [],
   "source": [
    "from PIL import Image\n",
    "import io\n",
    "img = Image.open(file_list[0])"
   ]
  },
  {
   "cell_type": "code",
   "execution_count": null,
   "metadata": {},
   "outputs": [],
   "source": [
    "img.show()"
   ]
  },
  {
   "cell_type": "code",
   "execution_count": null,
   "metadata": {},
   "outputs": [],
   "source": [
    "from IPython.display import Image \n",
    "pil_img = Image(filename='data/empire.jpg')\n",
    "display(pil_img)"
   ]
  }
 ],
 "metadata": {
  "kernelspec": {
   "display_name": "Python 3",
   "language": "python",
   "name": "python3"
  },
  "language_info": {
   "codemirror_mode": {
    "name": "ipython",
    "version": 3
   },
   "file_extension": ".py",
   "mimetype": "text/x-python",
   "name": "python",
   "nbconvert_exporter": "python",
   "pygments_lexer": "ipython3",
   "version": "3.6.6"
  }
 },
 "nbformat": 4,
 "nbformat_minor": 2
}
