{
 "cells": [
  {
   "cell_type": "code",
   "execution_count": 39,
   "metadata": {},
   "outputs": [],
   "source": [
    "import pymongo"
   ]
  },
  {
   "cell_type": "code",
   "execution_count": 40,
   "metadata": {},
   "outputs": [],
   "source": [
    "conn = pymongo.MongoClient(\"mongodb://localhost:27017\")"
   ]
  },
  {
   "cell_type": "code",
   "execution_count": 41,
   "metadata": {},
   "outputs": [
    {
     "data": {
      "text/plain": [
       "['Reviews', 'admin', 'config', 'local']"
      ]
     },
     "execution_count": 41,
     "metadata": {},
     "output_type": "execute_result"
    }
   ],
   "source": [
    "conn.list_database_names()"
   ]
  },
  {
   "cell_type": "code",
   "execution_count": 38,
   "metadata": {},
   "outputs": [],
   "source": [
    "mydb = conn[\"Reviews\"]\n",
    "mycol = mydb[\"FlipkartReview\"]\n",
    "                                                \n",
    "x = mycol.insert_many(reviews)"
   ]
  },
  {
   "cell_type": "code",
   "execution_count": 18,
   "metadata": {},
   "outputs": [],
   "source": [
    "x = mycol.insert_many(reviews)"
   ]
  },
  {
   "cell_type": "code",
   "execution_count": 50,
   "metadata": {},
   "outputs": [],
   "source": [
    "myquery = { \"Product\": \"iphone 11\" }"
   ]
  },
  {
   "cell_type": "code",
   "execution_count": 46,
   "metadata": {},
   "outputs": [],
   "source": [
    "myquery = { \"Product\": \"fasdfa 11\" }"
   ]
  },
  {
   "cell_type": "code",
   "execution_count": 51,
   "metadata": {},
   "outputs": [],
   "source": [
    "mydoc = mycol.find(myquery)"
   ]
  },
  {
   "cell_type": "code",
   "execution_count": 52,
   "metadata": {},
   "outputs": [
    {
     "data": {
      "text/plain": [
       "<pymongo.cursor.Cursor at 0x1d6d6124828>"
      ]
     },
     "execution_count": 52,
     "metadata": {},
     "output_type": "execute_result"
    }
   ],
   "source": [
    "mydoc"
   ]
  },
  {
   "cell_type": "code",
   "execution_count": 56,
   "metadata": {},
   "outputs": [
    {
     "data": {
      "text/plain": [
       "192"
      ]
     },
     "execution_count": 56,
     "metadata": {},
     "output_type": "execute_result"
    }
   ],
   "source": [
    "mydoc.explain()['executionStats']['nReturned']"
   ]
  },
  {
   "cell_type": "code",
   "execution_count": 53,
   "metadata": {},
   "outputs": [
    {
     "name": "stdout",
     "output_type": "stream",
     "text": [
      "{'queryPlanner': {'plannerVersion': 1, 'namespace': 'Reviews.FlipkartReview', 'indexFilterSet': False, 'parsedQuery': {'Product': {'$eq': 'iphone 11'}}, 'winningPlan': {'stage': 'COLLSCAN', 'filter': {'Product': {'$eq': 'iphone 11'}}, 'direction': 'forward'}, 'rejectedPlans': []}, 'executionStats': {'executionSuccess': True, 'nReturned': 192, 'executionTimeMillis': 0, 'totalKeysExamined': 0, 'totalDocsExamined': 192, 'executionStages': {'stage': 'COLLSCAN', 'filter': {'Product': {'$eq': 'iphone 11'}}, 'nReturned': 192, 'executionTimeMillisEstimate': 0, 'works': 194, 'advanced': 192, 'needTime': 1, 'needYield': 0, 'saveState': 0, 'restoreState': 0, 'isEOF': 1, 'direction': 'forward', 'docsExamined': 192}, 'allPlansExecution': []}, 'serverInfo': {'host': 'GB-NB125', 'port': 27017, 'version': '4.4.0', 'gitVersion': '563487e100c4215e2dce98d0af2a6a5a2d67c5cf'}, 'ok': 1.0}\n"
     ]
    }
   ],
   "source": [
    "print(mydoc.explain())"
   ]
  },
  {
   "cell_type": "code",
   "execution_count": 45,
   "metadata": {},
   "outputs": [
    {
     "name": "stdout",
     "output_type": "stream",
     "text": [
      "{'_id': ObjectId('5f59eae43a0a25c6dbe82cd3'), 'id': 0, 'Product': 'iphone 11', 'Name': 'Ankush Singh', 'Rating': 5, 'Comment Heading': 'Wonderful', 'Comments': 'Simply awesome device\\nPerfect camera\\nAwesome features.\\nSlow motion recording is just amazing '}\n"
     ]
    }
   ],
   "source": [
    "for x in mydoc:\n",
    "    print(x)\n",
    "    break"
   ]
  },
  {
   "cell_type": "code",
   "execution_count": null,
   "metadata": {},
   "outputs": [],
   "source": []
  }
 ],
 "metadata": {
  "kernelspec": {
   "display_name": "Python 3",
   "language": "python",
   "name": "python3"
  },
  "language_info": {
   "codemirror_mode": {
    "name": "ipython",
    "version": 3
   },
   "file_extension": ".py",
   "mimetype": "text/x-python",
   "name": "python",
   "nbconvert_exporter": "python",
   "pygments_lexer": "ipython3",
   "version": "3.6.6"
  }
 },
 "nbformat": 4,
 "nbformat_minor": 2
}
