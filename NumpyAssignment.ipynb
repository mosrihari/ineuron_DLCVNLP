{
  "nbformat": 4,
  "nbformat_minor": 0,
  "metadata": {
    "colab": {
      "name": "NumpyAssignment.ipynb",
      "provenance": [],
      "collapsed_sections": []
    },
    "kernelspec": {
      "name": "python3",
      "display_name": "Python 3"
    }
  },
  "cells": [
    {
      "cell_type": "markdown",
      "metadata": {
        "id": "Cci-vwTEbr5t",
        "colab_type": "text"
      },
      "source": [
        "# Question 1"
      ]
    },
    {
      "cell_type": "code",
      "metadata": {
        "id": "rZCh-vSqgbSW",
        "colab_type": "code",
        "colab": {}
      },
      "source": [
        "def vander_return(input_array, N):\n",
        "  ## This is using vander function\n",
        "  return np.vander(input_array, N)"
      ],
      "execution_count": 49,
      "outputs": []
    },
    {
      "cell_type": "code",
      "metadata": {
        "id": "ktCu_2Cxml5N",
        "colab_type": "code",
        "colab": {
          "base_uri": "https://localhost:8080/",
          "height": 84
        },
        "outputId": "ded03a67-7499-4616-9304-e5b3215e1b11"
      },
      "source": [
        "vander_return(np.array([1,2,3,4]), 4)"
      ],
      "execution_count": 58,
      "outputs": [
        {
          "output_type": "execute_result",
          "data": {
            "text/plain": [
              "array([[ 1,  1,  1,  1],\n",
              "       [ 8,  4,  2,  1],\n",
              "       [27,  9,  3,  1],\n",
              "       [64, 16,  4,  1]])"
            ]
          },
          "metadata": {
            "tags": []
          },
          "execution_count": 58
        }
      ]
    },
    {
      "cell_type": "code",
      "metadata": {
        "id": "Nq1vf9-UoYGt",
        "colab_type": "code",
        "colab": {}
      },
      "source": [
        "def vander_return_manual(input_array, N):\n",
        "  # This is vander manual implementation\n",
        "  if(N > input_array.shape[0]):\n",
        "    return \"N larger than input shape not possible\"\n",
        "  output = np.empty(shape=(input_array.shape[0],N))\n",
        "  output.fill(0)\n",
        "  for count, i in enumerate(range(N-1,-1,-1)):\n",
        "    output[:,count] = np.power(input_array, i)\n",
        "  return output"
      ],
      "execution_count": 86,
      "outputs": []
    },
    {
      "cell_type": "code",
      "metadata": {
        "id": "wW0pY5ecmzaZ",
        "colab_type": "code",
        "colab": {
          "base_uri": "https://localhost:8080/",
          "height": 67
        },
        "outputId": "39ee6061-54e1-4878-fb71-c816e48f4921"
      },
      "source": [
        "vander_return_manual(np.array([2,3,4]), 3)"
      ],
      "execution_count": 87,
      "outputs": [
        {
          "output_type": "execute_result",
          "data": {
            "text/plain": [
              "array([[ 4.,  2.,  1.],\n",
              "       [ 9.,  3.,  1.],\n",
              "       [16.,  4.,  1.]])"
            ]
          },
          "metadata": {
            "tags": []
          },
          "execution_count": 87
        }
      ]
    },
    {
      "cell_type": "code",
      "metadata": {
        "id": "5OP_YwjLn1g8",
        "colab_type": "code",
        "colab": {
          "base_uri": "https://localhost:8080/",
          "height": 84
        },
        "outputId": "fc771596-e840-41e2-ae3e-ab941103254b"
      },
      "source": [
        "vander_return_manual(np.array([1, 2, 3, 5]), 3)"
      ],
      "execution_count": 88,
      "outputs": [
        {
          "output_type": "execute_result",
          "data": {
            "text/plain": [
              "array([[ 1.,  1.,  1.],\n",
              "       [ 4.,  2.,  1.],\n",
              "       [ 9.,  3.,  1.],\n",
              "       [25.,  5.,  1.]])"
            ]
          },
          "metadata": {
            "tags": []
          },
          "execution_count": 88
        }
      ]
    },
    {
      "cell_type": "markdown",
      "metadata": {
        "id": "BeBntwbmaa5C",
        "colab_type": "text"
      },
      "source": [
        "# Question 2"
      ]
    },
    {
      "cell_type": "markdown",
      "metadata": {
        "id": "yNtRYDQ_bran",
        "colab_type": "text"
      },
      "source": [
        "### Moving averages"
      ]
    },
    {
      "cell_type": "code",
      "metadata": {
        "id": "cFjk4BQ2bvEi",
        "colab_type": "code",
        "colab": {}
      },
      "source": [
        "import numpy as np"
      ],
      "execution_count": 14,
      "outputs": []
    },
    {
      "cell_type": "code",
      "metadata": {
        "id": "heGJiTHPdy0Z",
        "colab_type": "code",
        "colab": {}
      },
      "source": [
        "def moving_average(input, k):\n",
        "  y = []\n",
        "  for i in range(input.shape[0]):\n",
        "    if((i+k) <= input.shape[0]):\n",
        "      y.append(np.ma.average(input[i:i+k]))\n",
        "    else:\n",
        "      break\n",
        "  return y"
      ],
      "execution_count": 45,
      "outputs": []
    },
    {
      "cell_type": "code",
      "metadata": {
        "id": "Muj_fqvHeakr",
        "colab_type": "code",
        "colab": {
          "base_uri": "https://localhost:8080/",
          "height": 202
        },
        "outputId": "eba1889c-e668-44a9-f2eb-fd8d7ccca78b"
      },
      "source": [
        "moving_average(np.array([3, 5, 7, 2, 8, 10, 11, 65, 72, 81, 99, 100, 150]), 3)"
      ],
      "execution_count": 47,
      "outputs": [
        {
          "output_type": "execute_result",
          "data": {
            "text/plain": [
              "[5.0,\n",
              " 4.666666666666667,\n",
              " 5.666666666666667,\n",
              " 6.666666666666667,\n",
              " 9.666666666666666,\n",
              " 28.666666666666668,\n",
              " 49.333333333333336,\n",
              " 72.66666666666667,\n",
              " 84.0,\n",
              " 93.33333333333333,\n",
              " 116.33333333333333]"
            ]
          },
          "metadata": {
            "tags": []
          },
          "execution_count": 47
        }
      ]
    },
    {
      "cell_type": "code",
      "metadata": {
        "id": "4sjJUHNKdARy",
        "colab_type": "code",
        "colab": {
          "base_uri": "https://localhost:8080/",
          "height": 34
        },
        "outputId": "0bf1ceb9-e9fa-4f45-b718-5dddc9247929"
      },
      "source": [
        ""
      ],
      "execution_count": 48,
      "outputs": [
        {
          "output_type": "execute_result",
          "data": {
            "text/plain": [
              "7"
            ]
          },
          "metadata": {
            "tags": []
          },
          "execution_count": 48
        }
      ]
    },
    {
      "cell_type": "code",
      "metadata": {
        "id": "B1-zsGETgUyB",
        "colab_type": "code",
        "colab": {}
      },
      "source": [
        ""
      ],
      "execution_count": null,
      "outputs": []
    }
  ]
}