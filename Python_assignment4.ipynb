{
  "nbformat": 4,
  "nbformat_minor": 0,
  "metadata": {
    "colab": {
      "name": "Python_assignment4.ipynb",
      "provenance": [],
      "collapsed_sections": []
    },
    "kernelspec": {
      "name": "python3",
      "display_name": "Python 3"
    }
  },
  "cells": [
    {
      "cell_type": "markdown",
      "metadata": {
        "id": "HWrP4uJUpqGT",
        "colab_type": "text"
      },
      "source": [
        "# Question 1"
      ]
    },
    {
      "cell_type": "markdown",
      "metadata": {
        "id": "iR8ExwBEpujI",
        "colab_type": "text"
      },
      "source": [
        "## Question 1.1"
      ]
    },
    {
      "cell_type": "code",
      "metadata": {
        "id": "8RluQOoCrdTT",
        "colab_type": "code",
        "colab": {}
      },
      "source": [
        "class Triangle():\n",
        "  def __init__(self, a, b, c):\n",
        "    self.a = a\n",
        "    self.b = b\n",
        "    self.c = c"
      ],
      "execution_count": 21,
      "outputs": []
    },
    {
      "cell_type": "code",
      "metadata": {
        "id": "Abt1pjQSshTp",
        "colab_type": "code",
        "colab": {}
      },
      "source": [
        "class Area(Triangle):\n",
        "  def __init__(self, a, b, c):\n",
        "    super().__init__(a, b, c)\n",
        "  \n",
        "  def area_of_triangle(self):\n",
        "    s = (self.a + self.b + self.c) / 2\n",
        "    return (s*(s - self.a)*(s - self.b)*(s - self.c)) ** 0.5"
      ],
      "execution_count": 26,
      "outputs": []
    },
    {
      "cell_type": "code",
      "metadata": {
        "id": "hm3OHlfSuyG3",
        "colab_type": "code",
        "colab": {
          "base_uri": "https://localhost:8080/",
          "height": 34
        },
        "outputId": "9a0c99fd-6762-4680-b40f-450376cbd2ec"
      },
      "source": [
        "triangle = Area(2,3,4)\n",
        "triangle.area_of_triangle()"
      ],
      "execution_count": 27,
      "outputs": [
        {
          "output_type": "execute_result",
          "data": {
            "text/plain": [
              "2.9047375096555625"
            ]
          },
          "metadata": {
            "tags": []
          },
          "execution_count": 27
        }
      ]
    },
    {
      "cell_type": "markdown",
      "metadata": {
        "id": "PoZF7zM6pvoE",
        "colab_type": "text"
      },
      "source": [
        "## Question 1.2"
      ]
    },
    {
      "cell_type": "code",
      "metadata": {
        "id": "jLxpHokBqCMu",
        "colab_type": "code",
        "colab": {}
      },
      "source": [
        "def filter_long_words(lst, n):\n",
        "  return [x for x in lst if len(x) > n]"
      ],
      "execution_count": 1,
      "outputs": []
    },
    {
      "cell_type": "code",
      "metadata": {
        "id": "6tohrAy5qNjz",
        "colab_type": "code",
        "colab": {
          "base_uri": "https://localhost:8080/",
          "height": 34
        },
        "outputId": "bc1bc940-50c9-46e2-9fc8-c304a4277486"
      },
      "source": [
        "filter_long_words(['srihari','mohan','hello','to','ineuron'], 4)"
      ],
      "execution_count": 3,
      "outputs": [
        {
          "output_type": "execute_result",
          "data": {
            "text/plain": [
              "['srihari', 'mohan', 'hello', 'ineuron']"
            ]
          },
          "metadata": {
            "tags": []
          },
          "execution_count": 3
        }
      ]
    },
    {
      "cell_type": "markdown",
      "metadata": {
        "id": "EBoKL3QEqUIy",
        "colab_type": "text"
      },
      "source": [
        "# Question 2"
      ]
    },
    {
      "cell_type": "markdown",
      "metadata": {
        "id": "opJMdy_0qcmU",
        "colab_type": "text"
      },
      "source": [
        "## Question 2.1"
      ]
    },
    {
      "cell_type": "code",
      "metadata": {
        "id": "aKpp5biRqejd",
        "colab_type": "code",
        "colab": {
          "base_uri": "https://localhost:8080/",
          "height": 34
        },
        "outputId": "d741624b-f2cd-4690-9bb3-c4196f4d7c71"
      },
      "source": [
        "lst_words = ['srihari','ineuron','hari','ab','cde','ert']\n",
        "list(map(lambda x: len(x), lst_words))"
      ],
      "execution_count": 18,
      "outputs": [
        {
          "output_type": "execute_result",
          "data": {
            "text/plain": [
              "[7, 7, 4, 2, 3, 3]"
            ]
          },
          "metadata": {
            "tags": []
          },
          "execution_count": 18
        }
      ]
    },
    {
      "cell_type": "markdown",
      "metadata": {
        "id": "ubuVYF4lqbJg",
        "colab_type": "text"
      },
      "source": [
        "## Question 2.2"
      ]
    },
    {
      "cell_type": "code",
      "metadata": {
        "id": "R5HCPqzpqcGJ",
        "colab_type": "code",
        "colab": {}
      },
      "source": [
        "def check_vowel(mychar):\n",
        "  if(len(mychar) > 1):\n",
        "    return \"its a string\"\n",
        "  else:\n",
        "    if(mychar in ['a','e','i','o','u']):\n",
        "      return True\n",
        "    else:\n",
        "      return False"
      ],
      "execution_count": 13,
      "outputs": []
    },
    {
      "cell_type": "code",
      "metadata": {
        "id": "NssablMLqu2L",
        "colab_type": "code",
        "colab": {
          "base_uri": "https://localhost:8080/",
          "height": 34
        },
        "outputId": "864f1668-b62e-4271-dda2-9a28dd22bb9d"
      },
      "source": [
        "check_vowel('a')"
      ],
      "execution_count": 14,
      "outputs": [
        {
          "output_type": "execute_result",
          "data": {
            "text/plain": [
              "True"
            ]
          },
          "metadata": {
            "tags": []
          },
          "execution_count": 14
        }
      ]
    },
    {
      "cell_type": "code",
      "metadata": {
        "id": "qH0JLZL_qwSZ",
        "colab_type": "code",
        "colab": {
          "base_uri": "https://localhost:8080/",
          "height": 34
        },
        "outputId": "c503fe79-46e8-4d47-a288-20b250f64e86"
      },
      "source": [
        "check_vowel('b')"
      ],
      "execution_count": 15,
      "outputs": [
        {
          "output_type": "execute_result",
          "data": {
            "text/plain": [
              "False"
            ]
          },
          "metadata": {
            "tags": []
          },
          "execution_count": 15
        }
      ]
    },
    {
      "cell_type": "code",
      "metadata": {
        "id": "dDY0_tBJqx9j",
        "colab_type": "code",
        "colab": {
          "base_uri": "https://localhost:8080/",
          "height": 35
        },
        "outputId": "3468095c-73d1-4c07-c9b1-c442620ad710"
      },
      "source": [
        "check_vowel(\"srihari\")"
      ],
      "execution_count": 16,
      "outputs": [
        {
          "output_type": "execute_result",
          "data": {
            "application/vnd.google.colaboratory.intrinsic+json": {
              "type": "string"
            },
            "text/plain": [
              "'its a string'"
            ]
          },
          "metadata": {
            "tags": []
          },
          "execution_count": 16
        }
      ]
    },
    {
      "cell_type": "code",
      "metadata": {
        "id": "_ZVi_cWjq6wC",
        "colab_type": "code",
        "colab": {}
      },
      "source": [
        ""
      ],
      "execution_count": null,
      "outputs": []
    }
  ]
}