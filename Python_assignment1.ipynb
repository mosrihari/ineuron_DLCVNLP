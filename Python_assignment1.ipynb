{
  "nbformat": 4,
  "nbformat_minor": 0,
  "metadata": {
    "colab": {
      "name": "Python_Assignment1.ipynb",
      "provenance": [],
      "collapsed_sections": []
    },
    "kernelspec": {
      "name": "python3",
      "display_name": "Python 3"
    }
  },
  "cells": [
    {
      "cell_type": "markdown",
      "metadata": {
        "id": "7EhCM1ZKT4Wk",
        "colab_type": "text"
      },
      "source": [
        "# Question 1"
      ]
    },
    {
      "cell_type": "markdown",
      "metadata": {
        "id": "8o0cNS8DVZKX",
        "colab_type": "text"
      },
      "source": [
        "## Divisible by 7 but not a multiple of 5"
      ]
    },
    {
      "cell_type": "code",
      "metadata": {
        "id": "yxxnGY1aUTSY",
        "colab_type": "code",
        "colab": {
          "base_uri": "https://localhost:8080/",
          "height": 54
        },
        "outputId": "b2449a05-f72c-4ef9-bd11-efc1414ec161"
      },
      "source": [
        "for num in range(2000,3201):\n",
        "  if(num % 5 == 0):\n",
        "    continue\n",
        "  else:\n",
        "    if((num % 7) == 0):\n",
        "      print(num, end=\",\") "
      ],
      "execution_count": 2,
      "outputs": [
        {
          "output_type": "stream",
          "text": [
            "2002,2009,2016,2023,2037,2044,2051,2058,2072,2079,2086,2093,2107,2114,2121,2128,2142,2149,2156,2163,2177,2184,2191,2198,2212,2219,2226,2233,2247,2254,2261,2268,2282,2289,2296,2303,2317,2324,2331,2338,2352,2359,2366,2373,2387,2394,2401,2408,2422,2429,2436,2443,2457,2464,2471,2478,2492,2499,2506,2513,2527,2534,2541,2548,2562,2569,2576,2583,2597,2604,2611,2618,2632,2639,2646,2653,2667,2674,2681,2688,2702,2709,2716,2723,2737,2744,2751,2758,2772,2779,2786,2793,2807,2814,2821,2828,2842,2849,2856,2863,2877,2884,2891,2898,2912,2919,2926,2933,2947,2954,2961,2968,2982,2989,2996,3003,3017,3024,3031,3038,3052,3059,3066,3073,3087,3094,3101,3108,3122,3129,3136,3143,3157,3164,3171,3178,3192,3199,"
          ],
          "name": "stdout"
        }
      ]
    },
    {
      "cell_type": "markdown",
      "metadata": {
        "id": "rs6rcIKnVGHj",
        "colab_type": "text"
      },
      "source": [
        "# Question 2"
      ]
    },
    {
      "cell_type": "markdown",
      "metadata": {
        "id": "IWKCcYutXmTS",
        "colab_type": "text"
      },
      "source": [
        "## Reverse first and last name"
      ]
    },
    {
      "cell_type": "code",
      "metadata": {
        "id": "FJfJEeDUVXuR",
        "colab_type": "code",
        "colab": {
          "base_uri": "https://localhost:8080/",
          "height": 67
        },
        "outputId": "c0661409-216d-4f3f-8bbe-4256adc4fe22"
      },
      "source": [
        "first_name = input(\"Enter the first name:\")\n",
        "last_name = input(\"Enter the last name:\")\n",
        "\n",
        "if((isinstance(first_name,str)) and (isinstance(last_name,str))):\n",
        "  print(\"{} {}\".format(first_name[::-1],last_name[::-1]))"
      ],
      "execution_count": 12,
      "outputs": [
        {
          "output_type": "stream",
          "text": [
            "Enter the first name:srihari\n",
            "Enter the last name:mohan\n",
            "irahirs nahom\n"
          ],
          "name": "stdout"
        }
      ]
    },
    {
      "cell_type": "markdown",
      "metadata": {
        "id": "k4AeNunlXK5N",
        "colab_type": "text"
      },
      "source": [
        "# Question 3"
      ]
    },
    {
      "cell_type": "markdown",
      "metadata": {
        "id": "8cVG4VTJXqMs",
        "colab_type": "text"
      },
      "source": [
        "## Volume of a sphere"
      ]
    },
    {
      "cell_type": "code",
      "metadata": {
        "id": "IlEHbU4FXtd9",
        "colab_type": "code",
        "colab": {}
      },
      "source": [
        "import math\n",
        "def volume_sphere(diameter):\n",
        "  radius = diameter / 2\n",
        "  return (4/3) * math.pi *  math.pow(radius, 3)"
      ],
      "execution_count": 16,
      "outputs": []
    },
    {
      "cell_type": "code",
      "metadata": {
        "id": "l0dLsy0rYJIH",
        "colab_type": "code",
        "colab": {
          "base_uri": "https://localhost:8080/",
          "height": 34
        },
        "outputId": "53b742f3-8f7d-4dfc-a0c7-1dcc7313e784"
      },
      "source": [
        "volume_sphere(12)"
      ],
      "execution_count": 17,
      "outputs": [
        {
          "output_type": "execute_result",
          "data": {
            "text/plain": [
              "904.7786842338603"
            ]
          },
          "metadata": {
            "tags": []
          },
          "execution_count": 17
        }
      ]
    },
    {
      "cell_type": "code",
      "metadata": {
        "id": "7e2WC5xjYPdo",
        "colab_type": "code",
        "colab": {}
      },
      "source": [
        ""
      ],
      "execution_count": null,
      "outputs": []
    }
  ]
}