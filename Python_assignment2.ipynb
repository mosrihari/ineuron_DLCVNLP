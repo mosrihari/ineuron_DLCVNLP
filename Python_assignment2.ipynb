{
  "nbformat": 4,
  "nbformat_minor": 0,
  "metadata": {
    "colab": {
      "name": "Python_assigment2.ipynb",
      "provenance": []
    },
    "kernelspec": {
      "name": "python3",
      "display_name": "Python 3"
    }
  },
  "cells": [
    {
      "cell_type": "markdown",
      "metadata": {
        "id": "1cRN6tcVY_GN",
        "colab_type": "text"
      },
      "source": [
        "# Question 1"
      ]
    },
    {
      "cell_type": "markdown",
      "metadata": {
        "id": "STIXUeNSZFjj",
        "colab_type": "text"
      },
      "source": [
        "## Pattern printing"
      ]
    },
    {
      "cell_type": "code",
      "metadata": {
        "id": "bqWQw_LsZG9r",
        "colab_type": "code",
        "colab": {}
      },
      "source": [
        "def pattern_print(n):\n",
        "  for i in range(1, n+1):\n",
        "    for j in range(1, i+1):\n",
        "      print(\"*\", end=\"\")\n",
        "    print(\"\\n\")\n",
        "  for i in range(n-1,0,-1):\n",
        "    for j in range(1, i+1):\n",
        "      print(\"*\", end=\"\")\n",
        "    print(\"\\n\")"
      ],
      "execution_count": 15,
      "outputs": []
    },
    {
      "cell_type": "code",
      "metadata": {
        "id": "yQI6WrOGZnZW",
        "colab_type": "code",
        "colab": {
          "base_uri": "https://localhost:8080/",
          "height": 319
        },
        "outputId": "047bdab0-85e8-4c20-ec1d-efa07637d1fd"
      },
      "source": [
        "pattern_print(5)"
      ],
      "execution_count": 18,
      "outputs": [
        {
          "output_type": "stream",
          "text": [
            "*\n",
            "\n",
            "**\n",
            "\n",
            "***\n",
            "\n",
            "****\n",
            "\n",
            "*****\n",
            "\n",
            "****\n",
            "\n",
            "***\n",
            "\n",
            "**\n",
            "\n",
            "*\n",
            "\n"
          ],
          "name": "stdout"
        }
      ]
    },
    {
      "cell_type": "markdown",
      "metadata": {
        "id": "iqf5x3YQZo1t",
        "colab_type": "text"
      },
      "source": [
        "# Question 2"
      ]
    },
    {
      "cell_type": "markdown",
      "metadata": {
        "id": "yfOWnfkQaciS",
        "colab_type": "text"
      },
      "source": [
        "## Reverse a string"
      ]
    },
    {
      "cell_type": "code",
      "metadata": {
        "id": "dbxREHmGado9",
        "colab_type": "code",
        "colab": {
          "base_uri": "https://localhost:8080/",
          "height": 50
        },
        "outputId": "4890294a-d38e-401a-db21-8a4c9f61d57b"
      },
      "source": [
        "mystring = input(\"Enter the string to reverse:\")\n",
        "\n",
        "if(isinstance(mystring,str)):\n",
        "  print(mystring[::-1])\n",
        "else:\n",
        "  print(\"please enter the valid string\")"
      ],
      "execution_count": 21,
      "outputs": [
        {
          "output_type": "stream",
          "text": [
            "Enter the string to reverse:ineuron\n",
            "norueni\n"
          ],
          "name": "stdout"
        }
      ]
    },
    {
      "cell_type": "code",
      "metadata": {
        "id": "mEg4iBp6as8l",
        "colab_type": "code",
        "colab": {}
      },
      "source": [
        ""
      ],
      "execution_count": null,
      "outputs": []
    }
  ]
}